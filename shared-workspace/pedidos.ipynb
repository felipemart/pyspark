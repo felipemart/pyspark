{
 "cells": [
  {
   "cell_type": "code",
   "execution_count": 110,
   "metadata": {},
   "outputs": [],
   "source": [
    "from pyspark.sql import SparkSession\n",
    "from pyspark.sql import functions as f\n",
    "import findspark\n",
    "findspark.init()\n",
    "\n",
    "spark = SparkSession.builder \\\n",
    "    .master('local[*]') \\\n",
    "    .appName(\"Pedidos\") \\\n",
    "    .config('spark.ui.port', '4050') \\\n",
    "    .getOrCreate()"
   ]
  },
  {
   "cell_type": "code",
   "execution_count": 111,
   "metadata": {},
   "outputs": [
    {
     "data": {
      "text/html": [
       "\n",
       "            <div>\n",
       "                <p><b>SparkSession - in-memory</b></p>\n",
       "                \n",
       "        <div>\n",
       "            <p><b>SparkContext</b></p>\n",
       "\n",
       "            <p><a href=\"http://172.23.69.223:4051\">Spark UI</a></p>\n",
       "\n",
       "            <dl>\n",
       "              <dt>Version</dt>\n",
       "                <dd><code>v3.3.1</code></dd>\n",
       "              <dt>Master</dt>\n",
       "                <dd><code>local[*]</code></dd>\n",
       "              <dt>AppName</dt>\n",
       "                <dd><code>Iniciando com Spark</code></dd>\n",
       "            </dl>\n",
       "        </div>\n",
       "        \n",
       "            </div>\n",
       "        "
      ],
      "text/plain": [
       "<pyspark.sql.session.SparkSession at 0x7fc1ea033970>"
      ]
     },
     "execution_count": 111,
     "metadata": {},
     "output_type": "execute_result"
    }
   ],
   "source": [
    "spark"
   ]
  },
  {
   "attachments": {},
   "cell_type": "markdown",
   "metadata": {},
   "source": [
    "Dados do pedido"
   ]
  },
  {
   "cell_type": "code",
   "execution_count": 112,
   "metadata": {},
   "outputs": [],
   "source": [
    "path = './arquivos/olist_orders_dataset.csv'\n",
    "df_pedidos = spark.read.csv(path, sep=',', inferSchema=True, header=True)"
   ]
  },
  {
   "cell_type": "code",
   "execution_count": 113,
   "metadata": {},
   "outputs": [],
   "source": [
    "df_pedidos = df_pedidos\\\n",
    "    .select('order_id', 'customer_id', 'order_purchase_timestamp')\\\n",
    "    .filter(df_pedidos['order_status'].like('%delivered%'))"
   ]
  },
  {
   "cell_type": "code",
   "execution_count": 114,
   "metadata": {},
   "outputs": [
    {
     "name": "stderr",
     "output_type": "stream",
     "text": [
      "/usr/local/lib/python3.10/dist-packages/pyspark/sql/pandas/conversion.py:248: FutureWarning: Passing unit-less datetime64 dtype to .astype is deprecated and will raise in a future version. Pass 'datetime64[ns]' instead\n",
      "  series = series.astype(t, copy=False)\n"
     ]
    },
    {
     "data": {
      "text/html": [
       "<div>\n",
       "<style scoped>\n",
       "    .dataframe tbody tr th:only-of-type {\n",
       "        vertical-align: middle;\n",
       "    }\n",
       "\n",
       "    .dataframe tbody tr th {\n",
       "        vertical-align: top;\n",
       "    }\n",
       "\n",
       "    .dataframe thead th {\n",
       "        text-align: right;\n",
       "    }\n",
       "</style>\n",
       "<table border=\"1\" class=\"dataframe\">\n",
       "  <thead>\n",
       "    <tr style=\"text-align: right;\">\n",
       "      <th></th>\n",
       "      <th>order_id</th>\n",
       "      <th>customer_id</th>\n",
       "      <th>order_purchase_timestamp</th>\n",
       "    </tr>\n",
       "  </thead>\n",
       "  <tbody>\n",
       "    <tr>\n",
       "      <th>0</th>\n",
       "      <td>e481f51cbdc54678b7cc49136f2d6af7</td>\n",
       "      <td>9ef432eb6251297304e76186b10a928d</td>\n",
       "      <td>2017-10-02 10:56:33</td>\n",
       "    </tr>\n",
       "    <tr>\n",
       "      <th>1</th>\n",
       "      <td>53cdb2fc8bc7dce0b6741e2150273451</td>\n",
       "      <td>b0830fb4747a6c6d20dea0b8c802d7ef</td>\n",
       "      <td>2018-07-24 20:41:37</td>\n",
       "    </tr>\n",
       "    <tr>\n",
       "      <th>2</th>\n",
       "      <td>47770eb9100c2d0c44946d9cf07ec65d</td>\n",
       "      <td>41ce2a54c0b03bf3443c3d931a367089</td>\n",
       "      <td>2018-08-08 08:38:49</td>\n",
       "    </tr>\n",
       "    <tr>\n",
       "      <th>3</th>\n",
       "      <td>949d5b44dbf5de918fe9c16f97b45f8a</td>\n",
       "      <td>f88197465ea7920adcdbec7375364d82</td>\n",
       "      <td>2017-11-18 19:28:06</td>\n",
       "    </tr>\n",
       "    <tr>\n",
       "      <th>4</th>\n",
       "      <td>ad21c59c0840e6cb83a9ceb5573f8159</td>\n",
       "      <td>8ab97904e6daea8866dbdbc4fb7aad2c</td>\n",
       "      <td>2018-02-13 21:18:39</td>\n",
       "    </tr>\n",
       "  </tbody>\n",
       "</table>\n",
       "</div>"
      ],
      "text/plain": [
       "                           order_id                       customer_id  \\\n",
       "0  e481f51cbdc54678b7cc49136f2d6af7  9ef432eb6251297304e76186b10a928d   \n",
       "1  53cdb2fc8bc7dce0b6741e2150273451  b0830fb4747a6c6d20dea0b8c802d7ef   \n",
       "2  47770eb9100c2d0c44946d9cf07ec65d  41ce2a54c0b03bf3443c3d931a367089   \n",
       "3  949d5b44dbf5de918fe9c16f97b45f8a  f88197465ea7920adcdbec7375364d82   \n",
       "4  ad21c59c0840e6cb83a9ceb5573f8159  8ab97904e6daea8866dbdbc4fb7aad2c   \n",
       "\n",
       "  order_purchase_timestamp  \n",
       "0      2017-10-02 10:56:33  \n",
       "1      2018-07-24 20:41:37  \n",
       "2      2018-08-08 08:38:49  \n",
       "3      2017-11-18 19:28:06  \n",
       "4      2018-02-13 21:18:39  "
      ]
     },
     "execution_count": 114,
     "metadata": {},
     "output_type": "execute_result"
    }
   ],
   "source": [
    "df_pedidos.limit(5).toPandas()"
   ]
  },
  {
   "attachments": {},
   "cell_type": "markdown",
   "metadata": {},
   "source": [
    "dados do cliente\n"
   ]
  },
  {
   "cell_type": "code",
   "execution_count": 115,
   "metadata": {},
   "outputs": [],
   "source": [
    "path = './arquivos/olist_customers_dataset.csv'\n",
    "df_clientes = spark.read.csv(path, sep=',', inferSchema=True, header=True)"
   ]
  },
  {
   "cell_type": "code",
   "execution_count": 116,
   "metadata": {},
   "outputs": [],
   "source": [
    "df_clientes = df_clientes\\\n",
    "    .select('customer_id', 'customer_city', 'customer_state')"
   ]
  },
  {
   "cell_type": "code",
   "execution_count": 117,
   "metadata": {},
   "outputs": [
    {
     "data": {
      "text/html": [
       "<div>\n",
       "<style scoped>\n",
       "    .dataframe tbody tr th:only-of-type {\n",
       "        vertical-align: middle;\n",
       "    }\n",
       "\n",
       "    .dataframe tbody tr th {\n",
       "        vertical-align: top;\n",
       "    }\n",
       "\n",
       "    .dataframe thead th {\n",
       "        text-align: right;\n",
       "    }\n",
       "</style>\n",
       "<table border=\"1\" class=\"dataframe\">\n",
       "  <thead>\n",
       "    <tr style=\"text-align: right;\">\n",
       "      <th></th>\n",
       "      <th>customer_id</th>\n",
       "      <th>customer_city</th>\n",
       "      <th>customer_state</th>\n",
       "    </tr>\n",
       "  </thead>\n",
       "  <tbody>\n",
       "    <tr>\n",
       "      <th>0</th>\n",
       "      <td>06b8999e2fba1a1fbc88172c00ba8bc7</td>\n",
       "      <td>franca</td>\n",
       "      <td>SP</td>\n",
       "    </tr>\n",
       "    <tr>\n",
       "      <th>1</th>\n",
       "      <td>18955e83d337fd6b2def6b18a428ac77</td>\n",
       "      <td>sao bernardo do campo</td>\n",
       "      <td>SP</td>\n",
       "    </tr>\n",
       "    <tr>\n",
       "      <th>2</th>\n",
       "      <td>4e7b3e00288586ebd08712fdd0374a03</td>\n",
       "      <td>sao paulo</td>\n",
       "      <td>SP</td>\n",
       "    </tr>\n",
       "    <tr>\n",
       "      <th>3</th>\n",
       "      <td>b2b6027bc5c5109e529d4dc6358b12c3</td>\n",
       "      <td>mogi das cruzes</td>\n",
       "      <td>SP</td>\n",
       "    </tr>\n",
       "    <tr>\n",
       "      <th>4</th>\n",
       "      <td>4f2d8ab171c80ec8364f7c12e35b23ad</td>\n",
       "      <td>campinas</td>\n",
       "      <td>SP</td>\n",
       "    </tr>\n",
       "  </tbody>\n",
       "</table>\n",
       "</div>"
      ],
      "text/plain": [
       "                        customer_id          customer_city customer_state\n",
       "0  06b8999e2fba1a1fbc88172c00ba8bc7                 franca             SP\n",
       "1  18955e83d337fd6b2def6b18a428ac77  sao bernardo do campo             SP\n",
       "2  4e7b3e00288586ebd08712fdd0374a03              sao paulo             SP\n",
       "3  b2b6027bc5c5109e529d4dc6358b12c3        mogi das cruzes             SP\n",
       "4  4f2d8ab171c80ec8364f7c12e35b23ad               campinas             SP"
      ]
     },
     "execution_count": 117,
     "metadata": {},
     "output_type": "execute_result"
    }
   ],
   "source": [
    "df_clientes.limit(5).toPandas()"
   ]
  },
  {
   "cell_type": "code",
   "execution_count": 118,
   "metadata": {},
   "outputs": [],
   "source": [
    "df_pedidos = df_pedidos.join(df_clientes, 'customer_id', how='inner')\\\n",
    "    .sort('customer_id')"
   ]
  },
  {
   "attachments": {},
   "cell_type": "markdown",
   "metadata": {},
   "source": [
    "dados de pagamentos"
   ]
  },
  {
   "cell_type": "code",
   "execution_count": 119,
   "metadata": {},
   "outputs": [],
   "source": [
    "path = './arquivos/olist_order_payments_dataset.csv'\n",
    "df_pagamentos = spark.read.csv(path, sep=',', inferSchema=True, header=True)"
   ]
  },
  {
   "cell_type": "code",
   "execution_count": 120,
   "metadata": {},
   "outputs": [
    {
     "data": {
      "text/html": [
       "<div>\n",
       "<style scoped>\n",
       "    .dataframe tbody tr th:only-of-type {\n",
       "        vertical-align: middle;\n",
       "    }\n",
       "\n",
       "    .dataframe tbody tr th {\n",
       "        vertical-align: top;\n",
       "    }\n",
       "\n",
       "    .dataframe thead th {\n",
       "        text-align: right;\n",
       "    }\n",
       "</style>\n",
       "<table border=\"1\" class=\"dataframe\">\n",
       "  <thead>\n",
       "    <tr style=\"text-align: right;\">\n",
       "      <th></th>\n",
       "      <th>order_id</th>\n",
       "      <th>payment_sequential</th>\n",
       "      <th>payment_type</th>\n",
       "      <th>payment_installments</th>\n",
       "      <th>payment_value</th>\n",
       "    </tr>\n",
       "  </thead>\n",
       "  <tbody>\n",
       "    <tr>\n",
       "      <th>0</th>\n",
       "      <td>b81ef226f3fe1789b1e8b2acac839d17</td>\n",
       "      <td>1</td>\n",
       "      <td>credit_card</td>\n",
       "      <td>8</td>\n",
       "      <td>99.33</td>\n",
       "    </tr>\n",
       "    <tr>\n",
       "      <th>1</th>\n",
       "      <td>a9810da82917af2d9aefd1278f1dcfa0</td>\n",
       "      <td>1</td>\n",
       "      <td>credit_card</td>\n",
       "      <td>1</td>\n",
       "      <td>24.39</td>\n",
       "    </tr>\n",
       "    <tr>\n",
       "      <th>2</th>\n",
       "      <td>25e8ea4e93396b6fa0d3dd708e76c1bd</td>\n",
       "      <td>1</td>\n",
       "      <td>credit_card</td>\n",
       "      <td>1</td>\n",
       "      <td>65.71</td>\n",
       "    </tr>\n",
       "    <tr>\n",
       "      <th>3</th>\n",
       "      <td>ba78997921bbcdc1373bb41e913ab953</td>\n",
       "      <td>1</td>\n",
       "      <td>credit_card</td>\n",
       "      <td>8</td>\n",
       "      <td>107.78</td>\n",
       "    </tr>\n",
       "    <tr>\n",
       "      <th>4</th>\n",
       "      <td>42fdf880ba16b47b59251dd489d4441a</td>\n",
       "      <td>1</td>\n",
       "      <td>credit_card</td>\n",
       "      <td>2</td>\n",
       "      <td>128.45</td>\n",
       "    </tr>\n",
       "  </tbody>\n",
       "</table>\n",
       "</div>"
      ],
      "text/plain": [
       "                           order_id  payment_sequential payment_type  \\\n",
       "0  b81ef226f3fe1789b1e8b2acac839d17                   1  credit_card   \n",
       "1  a9810da82917af2d9aefd1278f1dcfa0                   1  credit_card   \n",
       "2  25e8ea4e93396b6fa0d3dd708e76c1bd                   1  credit_card   \n",
       "3  ba78997921bbcdc1373bb41e913ab953                   1  credit_card   \n",
       "4  42fdf880ba16b47b59251dd489d4441a                   1  credit_card   \n",
       "\n",
       "   payment_installments  payment_value  \n",
       "0                     8          99.33  \n",
       "1                     1          24.39  \n",
       "2                     1          65.71  \n",
       "3                     8         107.78  \n",
       "4                     2         128.45  "
      ]
     },
     "execution_count": 120,
     "metadata": {},
     "output_type": "execute_result"
    }
   ],
   "source": [
    "df_pagamentos.limit(5).toPandas()"
   ]
  },
  {
   "cell_type": "code",
   "execution_count": 121,
   "metadata": {},
   "outputs": [],
   "source": [
    "df_pedidos = df_pedidos.join(df_pagamentos, 'order_id', how='inner')\\\n",
    "    .sort('order_id')"
   ]
  },
  {
   "attachments": {},
   "cell_type": "markdown",
   "metadata": {},
   "source": [
    "dados dos itens do pedido"
   ]
  },
  {
   "cell_type": "code",
   "execution_count": 122,
   "metadata": {},
   "outputs": [],
   "source": [
    "path = './arquivos/olist_order_items_dataset.csv'\n",
    "df_pedidos_itens = spark.read.csv(path, sep=',', inferSchema=True, header=True)"
   ]
  },
  {
   "cell_type": "code",
   "execution_count": 123,
   "metadata": {},
   "outputs": [
    {
     "name": "stderr",
     "output_type": "stream",
     "text": [
      "/usr/local/lib/python3.10/dist-packages/pyspark/sql/pandas/conversion.py:248: FutureWarning: Passing unit-less datetime64 dtype to .astype is deprecated and will raise in a future version. Pass 'datetime64[ns]' instead\n",
      "  series = series.astype(t, copy=False)\n"
     ]
    }
   ],
   "source": [
    "df_pedidos_itens.limit(5).toPandas()\n",
    "df_pedidos = df_pedidos.join(df_pedidos_itens, 'order_id', how='inner')\\\n",
    "    .sort('order_id')"
   ]
  },
  {
   "attachments": {},
   "cell_type": "markdown",
   "metadata": {},
   "source": [
    "dados do produtos "
   ]
  },
  {
   "cell_type": "code",
   "execution_count": 124,
   "metadata": {},
   "outputs": [],
   "source": [
    "path = './arquivos/olist_products_dataset.csv'\n",
    "df_produtos = spark.read.csv(path, sep=',', inferSchema=True, header=True)"
   ]
  },
  {
   "cell_type": "code",
   "execution_count": 125,
   "metadata": {},
   "outputs": [
    {
     "data": {
      "text/html": [
       "<div>\n",
       "<style scoped>\n",
       "    .dataframe tbody tr th:only-of-type {\n",
       "        vertical-align: middle;\n",
       "    }\n",
       "\n",
       "    .dataframe tbody tr th {\n",
       "        vertical-align: top;\n",
       "    }\n",
       "\n",
       "    .dataframe thead th {\n",
       "        text-align: right;\n",
       "    }\n",
       "</style>\n",
       "<table border=\"1\" class=\"dataframe\">\n",
       "  <thead>\n",
       "    <tr style=\"text-align: right;\">\n",
       "      <th></th>\n",
       "      <th>product_id</th>\n",
       "      <th>product_category_name</th>\n",
       "    </tr>\n",
       "  </thead>\n",
       "  <tbody>\n",
       "    <tr>\n",
       "      <th>0</th>\n",
       "      <td>1e9e8ef04dbcff4541ed26657ea517e5</td>\n",
       "      <td>perfumaria</td>\n",
       "    </tr>\n",
       "    <tr>\n",
       "      <th>1</th>\n",
       "      <td>3aa071139cb16b67ca9e5dea641aaa2f</td>\n",
       "      <td>artes</td>\n",
       "    </tr>\n",
       "    <tr>\n",
       "      <th>2</th>\n",
       "      <td>96bd76ec8810374ed1b65e291975717f</td>\n",
       "      <td>esporte_lazer</td>\n",
       "    </tr>\n",
       "    <tr>\n",
       "      <th>3</th>\n",
       "      <td>cef67bcfe19066a932b7673e239eb23d</td>\n",
       "      <td>bebes</td>\n",
       "    </tr>\n",
       "    <tr>\n",
       "      <th>4</th>\n",
       "      <td>9dc1a7de274444849c219cff195d0b71</td>\n",
       "      <td>utilidades_domesticas</td>\n",
       "    </tr>\n",
       "  </tbody>\n",
       "</table>\n",
       "</div>"
      ],
      "text/plain": [
       "                         product_id  product_category_name\n",
       "0  1e9e8ef04dbcff4541ed26657ea517e5             perfumaria\n",
       "1  3aa071139cb16b67ca9e5dea641aaa2f                  artes\n",
       "2  96bd76ec8810374ed1b65e291975717f          esporte_lazer\n",
       "3  cef67bcfe19066a932b7673e239eb23d                  bebes\n",
       "4  9dc1a7de274444849c219cff195d0b71  utilidades_domesticas"
      ]
     },
     "execution_count": 125,
     "metadata": {},
     "output_type": "execute_result"
    }
   ],
   "source": [
    "\n",
    "df_produtos = df_produtos\\\n",
    "    .select('product_id', 'product_category_name')\n",
    "df_produtos.limit(5).toPandas()"
   ]
  },
  {
   "cell_type": "code",
   "execution_count": 126,
   "metadata": {},
   "outputs": [
    {
     "name": "stderr",
     "output_type": "stream",
     "text": [
      "/usr/local/lib/python3.10/dist-packages/pyspark/sql/pandas/conversion.py:248: FutureWarning: Passing unit-less datetime64 dtype to .astype is deprecated and will raise in a future version. Pass 'datetime64[ns]' instead\n",
      "  series = series.astype(t, copy=False)\n",
      "/usr/local/lib/python3.10/dist-packages/pyspark/sql/pandas/conversion.py:248: FutureWarning: Passing unit-less datetime64 dtype to .astype is deprecated and will raise in a future version. Pass 'datetime64[ns]' instead\n",
      "  series = series.astype(t, copy=False)\n"
     ]
    },
    {
     "data": {
      "text/html": [
       "<div>\n",
       "<style scoped>\n",
       "    .dataframe tbody tr th:only-of-type {\n",
       "        vertical-align: middle;\n",
       "    }\n",
       "\n",
       "    .dataframe tbody tr th {\n",
       "        vertical-align: top;\n",
       "    }\n",
       "\n",
       "    .dataframe thead th {\n",
       "        text-align: right;\n",
       "    }\n",
       "</style>\n",
       "<table border=\"1\" class=\"dataframe\">\n",
       "  <thead>\n",
       "    <tr style=\"text-align: right;\">\n",
       "      <th></th>\n",
       "      <th>product_id</th>\n",
       "      <th>order_id</th>\n",
       "      <th>customer_id</th>\n",
       "      <th>order_purchase_timestamp</th>\n",
       "      <th>customer_city</th>\n",
       "      <th>customer_state</th>\n",
       "      <th>payment_sequential</th>\n",
       "      <th>payment_type</th>\n",
       "      <th>payment_installments</th>\n",
       "      <th>payment_value</th>\n",
       "      <th>order_item_id</th>\n",
       "      <th>seller_id</th>\n",
       "      <th>shipping_limit_date</th>\n",
       "      <th>price</th>\n",
       "      <th>freight_value</th>\n",
       "      <th>product_category_name</th>\n",
       "    </tr>\n",
       "  </thead>\n",
       "  <tbody>\n",
       "    <tr>\n",
       "      <th>0</th>\n",
       "      <td>08279c494018541f71443c07d77560f8</td>\n",
       "      <td>0032d07457ae9c806c79368d7d9ce96b</td>\n",
       "      <td>d356c20816dc75a309628b5c17d89468</td>\n",
       "      <td>2018-03-10 18:53:06</td>\n",
       "      <td>rio de janeiro</td>\n",
       "      <td>RJ</td>\n",
       "      <td>1</td>\n",
       "      <td>credit_card</td>\n",
       "      <td>2</td>\n",
       "      <td>186.19</td>\n",
       "      <td>1</td>\n",
       "      <td>e333046ce6517bd8bb510291d44f0130</td>\n",
       "      <td>2018-03-15 19:28:51</td>\n",
       "      <td>159.00</td>\n",
       "      <td>27.19</td>\n",
       "      <td>utilidades_domesticas</td>\n",
       "    </tr>\n",
       "    <tr>\n",
       "      <th>1</th>\n",
       "      <td>9545d45c37449ccbc376de3a04c66e71</td>\n",
       "      <td>0045e3085f083f0f38d24bb3f22e6593</td>\n",
       "      <td>eb729faa993caad20442243265804a7c</td>\n",
       "      <td>2017-08-10 16:13:36</td>\n",
       "      <td>sao jose dos campos</td>\n",
       "      <td>SP</td>\n",
       "      <td>1</td>\n",
       "      <td>credit_card</td>\n",
       "      <td>3</td>\n",
       "      <td>130.74</td>\n",
       "      <td>1</td>\n",
       "      <td>431af27f296bc6519d890aa5a05fdb11</td>\n",
       "      <td>2017-08-17 07:15:16</td>\n",
       "      <td>116.90</td>\n",
       "      <td>13.84</td>\n",
       "      <td>beleza_saude</td>\n",
       "    </tr>\n",
       "    <tr>\n",
       "      <th>2</th>\n",
       "      <td>19421075ae0b585f2dc13ff149e2119d</td>\n",
       "      <td>0079bca8e89bd52fdb87408e4f3fb94d</td>\n",
       "      <td>137f50d5bfbcfb9578c50605cc9adb16</td>\n",
       "      <td>2018-05-03 18:55:20</td>\n",
       "      <td>sao paulo</td>\n",
       "      <td>SP</td>\n",
       "      <td>1</td>\n",
       "      <td>boleto</td>\n",
       "      <td>1</td>\n",
       "      <td>57.29</td>\n",
       "      <td>1</td>\n",
       "      <td>4c2b230173bb36f9b240f2b8ac11786e</td>\n",
       "      <td>2018-05-10 03:31:09</td>\n",
       "      <td>49.90</td>\n",
       "      <td>7.39</td>\n",
       "      <td>esporte_lazer</td>\n",
       "    </tr>\n",
       "    <tr>\n",
       "      <th>3</th>\n",
       "      <td>e819fddd6622f30e872bfc89471c1408</td>\n",
       "      <td>007ff0b0f79be782f633fc3b18cbe337</td>\n",
       "      <td>fc021f2dd664b49455528422c77b6aab</td>\n",
       "      <td>2018-02-03 17:46:53</td>\n",
       "      <td>belo horizonte</td>\n",
       "      <td>MG</td>\n",
       "      <td>1</td>\n",
       "      <td>credit_card</td>\n",
       "      <td>1</td>\n",
       "      <td>55.11</td>\n",
       "      <td>1</td>\n",
       "      <td>7139dc5186aa238b006e066d8fbab2e4</td>\n",
       "      <td>2018-02-08 20:10:10</td>\n",
       "      <td>39.00</td>\n",
       "      <td>16.11</td>\n",
       "      <td>moveis_decoracao</td>\n",
       "    </tr>\n",
       "    <tr>\n",
       "      <th>4</th>\n",
       "      <td>d64e758afad411049a45e42c9a259241</td>\n",
       "      <td>0094bd07f49fed90209ffa62d1ef26d6</td>\n",
       "      <td>de0c1a4d8c367c58d66e61dfa379f4cf</td>\n",
       "      <td>2018-05-01 02:04:16</td>\n",
       "      <td>praia grande</td>\n",
       "      <td>SP</td>\n",
       "      <td>1</td>\n",
       "      <td>boleto</td>\n",
       "      <td>1</td>\n",
       "      <td>18.92</td>\n",
       "      <td>1</td>\n",
       "      <td>5670f4db5b62c43d542e1b2d56b0cf7c</td>\n",
       "      <td>2018-05-09 04:12:53</td>\n",
       "      <td>11.53</td>\n",
       "      <td>7.39</td>\n",
       "      <td>perfumaria</td>\n",
       "    </tr>\n",
       "  </tbody>\n",
       "</table>\n",
       "</div>"
      ],
      "text/plain": [
       "                         product_id                          order_id  \\\n",
       "0  08279c494018541f71443c07d77560f8  0032d07457ae9c806c79368d7d9ce96b   \n",
       "1  9545d45c37449ccbc376de3a04c66e71  0045e3085f083f0f38d24bb3f22e6593   \n",
       "2  19421075ae0b585f2dc13ff149e2119d  0079bca8e89bd52fdb87408e4f3fb94d   \n",
       "3  e819fddd6622f30e872bfc89471c1408  007ff0b0f79be782f633fc3b18cbe337   \n",
       "4  d64e758afad411049a45e42c9a259241  0094bd07f49fed90209ffa62d1ef26d6   \n",
       "\n",
       "                        customer_id order_purchase_timestamp  \\\n",
       "0  d356c20816dc75a309628b5c17d89468      2018-03-10 18:53:06   \n",
       "1  eb729faa993caad20442243265804a7c      2017-08-10 16:13:36   \n",
       "2  137f50d5bfbcfb9578c50605cc9adb16      2018-05-03 18:55:20   \n",
       "3  fc021f2dd664b49455528422c77b6aab      2018-02-03 17:46:53   \n",
       "4  de0c1a4d8c367c58d66e61dfa379f4cf      2018-05-01 02:04:16   \n",
       "\n",
       "         customer_city customer_state  payment_sequential payment_type  \\\n",
       "0       rio de janeiro             RJ                   1  credit_card   \n",
       "1  sao jose dos campos             SP                   1  credit_card   \n",
       "2            sao paulo             SP                   1       boleto   \n",
       "3       belo horizonte             MG                   1  credit_card   \n",
       "4         praia grande             SP                   1       boleto   \n",
       "\n",
       "   payment_installments  payment_value  order_item_id  \\\n",
       "0                     2         186.19              1   \n",
       "1                     3         130.74              1   \n",
       "2                     1          57.29              1   \n",
       "3                     1          55.11              1   \n",
       "4                     1          18.92              1   \n",
       "\n",
       "                          seller_id shipping_limit_date   price  \\\n",
       "0  e333046ce6517bd8bb510291d44f0130 2018-03-15 19:28:51  159.00   \n",
       "1  431af27f296bc6519d890aa5a05fdb11 2017-08-17 07:15:16  116.90   \n",
       "2  4c2b230173bb36f9b240f2b8ac11786e 2018-05-10 03:31:09   49.90   \n",
       "3  7139dc5186aa238b006e066d8fbab2e4 2018-02-08 20:10:10   39.00   \n",
       "4  5670f4db5b62c43d542e1b2d56b0cf7c 2018-05-09 04:12:53   11.53   \n",
       "\n",
       "   freight_value  product_category_name  \n",
       "0          27.19  utilidades_domesticas  \n",
       "1          13.84           beleza_saude  \n",
       "2           7.39          esporte_lazer  \n",
       "3          16.11       moveis_decoracao  \n",
       "4           7.39             perfumaria  "
      ]
     },
     "execution_count": 126,
     "metadata": {},
     "output_type": "execute_result"
    }
   ],
   "source": [
    "df_pedidos = df_pedidos.join(df_produtos, 'product_id', how='inner')\n",
    "df_pedidos.limit(5).toPandas()"
   ]
  },
  {
   "attachments": {},
   "cell_type": "markdown",
   "metadata": {},
   "source": [
    "dados vendedor "
   ]
  },
  {
   "cell_type": "code",
   "execution_count": 127,
   "metadata": {},
   "outputs": [],
   "source": [
    "path = './arquivos/olist_sellers_dataset.csv'\n",
    "df_vendedor  = spark.read.csv(path, sep=',', inferSchema=True, header=True)"
   ]
  },
  {
   "cell_type": "code",
   "execution_count": 128,
   "metadata": {},
   "outputs": [],
   "source": [
    "df_vendedor = df_vendedor\\\n",
    "    .select('seller_id', 'seller_city',  'seller_state')"
   ]
  },
  {
   "cell_type": "code",
   "execution_count": 129,
   "metadata": {},
   "outputs": [
    {
     "name": "stderr",
     "output_type": "stream",
     "text": [
      "/usr/local/lib/python3.10/dist-packages/pyspark/sql/pandas/conversion.py:248: FutureWarning: Passing unit-less datetime64 dtype to .astype is deprecated and will raise in a future version. Pass 'datetime64[ns]' instead\n",
      "  series = series.astype(t, copy=False)\n",
      "/usr/local/lib/python3.10/dist-packages/pyspark/sql/pandas/conversion.py:248: FutureWarning: Passing unit-less datetime64 dtype to .astype is deprecated and will raise in a future version. Pass 'datetime64[ns]' instead\n",
      "  series = series.astype(t, copy=False)\n"
     ]
    },
    {
     "data": {
      "text/html": [
       "<div>\n",
       "<style scoped>\n",
       "    .dataframe tbody tr th:only-of-type {\n",
       "        vertical-align: middle;\n",
       "    }\n",
       "\n",
       "    .dataframe tbody tr th {\n",
       "        vertical-align: top;\n",
       "    }\n",
       "\n",
       "    .dataframe thead th {\n",
       "        text-align: right;\n",
       "    }\n",
       "</style>\n",
       "<table border=\"1\" class=\"dataframe\">\n",
       "  <thead>\n",
       "    <tr style=\"text-align: right;\">\n",
       "      <th></th>\n",
       "      <th>seller_id</th>\n",
       "      <th>product_id</th>\n",
       "      <th>order_id</th>\n",
       "      <th>customer_id</th>\n",
       "      <th>order_purchase_timestamp</th>\n",
       "      <th>customer_city</th>\n",
       "      <th>customer_state</th>\n",
       "      <th>payment_sequential</th>\n",
       "      <th>payment_type</th>\n",
       "      <th>payment_installments</th>\n",
       "      <th>payment_value</th>\n",
       "      <th>order_item_id</th>\n",
       "      <th>shipping_limit_date</th>\n",
       "      <th>price</th>\n",
       "      <th>freight_value</th>\n",
       "      <th>product_category_name</th>\n",
       "      <th>seller_city</th>\n",
       "      <th>seller_state</th>\n",
       "    </tr>\n",
       "  </thead>\n",
       "  <tbody>\n",
       "    <tr>\n",
       "      <th>0</th>\n",
       "      <td>e333046ce6517bd8bb510291d44f0130</td>\n",
       "      <td>08279c494018541f71443c07d77560f8</td>\n",
       "      <td>0032d07457ae9c806c79368d7d9ce96b</td>\n",
       "      <td>d356c20816dc75a309628b5c17d89468</td>\n",
       "      <td>2018-03-10 18:53:06</td>\n",
       "      <td>rio de janeiro</td>\n",
       "      <td>RJ</td>\n",
       "      <td>1</td>\n",
       "      <td>credit_card</td>\n",
       "      <td>2</td>\n",
       "      <td>186.19</td>\n",
       "      <td>1</td>\n",
       "      <td>2018-03-15 19:28:51</td>\n",
       "      <td>159.00</td>\n",
       "      <td>27.19</td>\n",
       "      <td>utilidades_domesticas</td>\n",
       "      <td>ipaussu</td>\n",
       "      <td>SP</td>\n",
       "    </tr>\n",
       "    <tr>\n",
       "      <th>1</th>\n",
       "      <td>431af27f296bc6519d890aa5a05fdb11</td>\n",
       "      <td>9545d45c37449ccbc376de3a04c66e71</td>\n",
       "      <td>0045e3085f083f0f38d24bb3f22e6593</td>\n",
       "      <td>eb729faa993caad20442243265804a7c</td>\n",
       "      <td>2017-08-10 16:13:36</td>\n",
       "      <td>sao jose dos campos</td>\n",
       "      <td>SP</td>\n",
       "      <td>1</td>\n",
       "      <td>credit_card</td>\n",
       "      <td>3</td>\n",
       "      <td>130.74</td>\n",
       "      <td>1</td>\n",
       "      <td>2017-08-17 07:15:16</td>\n",
       "      <td>116.90</td>\n",
       "      <td>13.84</td>\n",
       "      <td>beleza_saude</td>\n",
       "      <td>ribeirao preto</td>\n",
       "      <td>SP</td>\n",
       "    </tr>\n",
       "    <tr>\n",
       "      <th>2</th>\n",
       "      <td>4c2b230173bb36f9b240f2b8ac11786e</td>\n",
       "      <td>19421075ae0b585f2dc13ff149e2119d</td>\n",
       "      <td>0079bca8e89bd52fdb87408e4f3fb94d</td>\n",
       "      <td>137f50d5bfbcfb9578c50605cc9adb16</td>\n",
       "      <td>2018-05-03 18:55:20</td>\n",
       "      <td>sao paulo</td>\n",
       "      <td>SP</td>\n",
       "      <td>1</td>\n",
       "      <td>boleto</td>\n",
       "      <td>1</td>\n",
       "      <td>57.29</td>\n",
       "      <td>1</td>\n",
       "      <td>2018-05-10 03:31:09</td>\n",
       "      <td>49.90</td>\n",
       "      <td>7.39</td>\n",
       "      <td>esporte_lazer</td>\n",
       "      <td>sao paulo</td>\n",
       "      <td>SP</td>\n",
       "    </tr>\n",
       "    <tr>\n",
       "      <th>3</th>\n",
       "      <td>7139dc5186aa238b006e066d8fbab2e4</td>\n",
       "      <td>e819fddd6622f30e872bfc89471c1408</td>\n",
       "      <td>007ff0b0f79be782f633fc3b18cbe337</td>\n",
       "      <td>fc021f2dd664b49455528422c77b6aab</td>\n",
       "      <td>2018-02-03 17:46:53</td>\n",
       "      <td>belo horizonte</td>\n",
       "      <td>MG</td>\n",
       "      <td>1</td>\n",
       "      <td>credit_card</td>\n",
       "      <td>1</td>\n",
       "      <td>55.11</td>\n",
       "      <td>1</td>\n",
       "      <td>2018-02-08 20:10:10</td>\n",
       "      <td>39.00</td>\n",
       "      <td>16.11</td>\n",
       "      <td>moveis_decoracao</td>\n",
       "      <td>amparo</td>\n",
       "      <td>SP</td>\n",
       "    </tr>\n",
       "    <tr>\n",
       "      <th>4</th>\n",
       "      <td>5670f4db5b62c43d542e1b2d56b0cf7c</td>\n",
       "      <td>d64e758afad411049a45e42c9a259241</td>\n",
       "      <td>0094bd07f49fed90209ffa62d1ef26d6</td>\n",
       "      <td>de0c1a4d8c367c58d66e61dfa379f4cf</td>\n",
       "      <td>2018-05-01 02:04:16</td>\n",
       "      <td>praia grande</td>\n",
       "      <td>SP</td>\n",
       "      <td>1</td>\n",
       "      <td>boleto</td>\n",
       "      <td>1</td>\n",
       "      <td>18.92</td>\n",
       "      <td>1</td>\n",
       "      <td>2018-05-09 04:12:53</td>\n",
       "      <td>11.53</td>\n",
       "      <td>7.39</td>\n",
       "      <td>perfumaria</td>\n",
       "      <td>sao paulo</td>\n",
       "      <td>SP</td>\n",
       "    </tr>\n",
       "  </tbody>\n",
       "</table>\n",
       "</div>"
      ],
      "text/plain": [
       "                          seller_id                        product_id  \\\n",
       "0  e333046ce6517bd8bb510291d44f0130  08279c494018541f71443c07d77560f8   \n",
       "1  431af27f296bc6519d890aa5a05fdb11  9545d45c37449ccbc376de3a04c66e71   \n",
       "2  4c2b230173bb36f9b240f2b8ac11786e  19421075ae0b585f2dc13ff149e2119d   \n",
       "3  7139dc5186aa238b006e066d8fbab2e4  e819fddd6622f30e872bfc89471c1408   \n",
       "4  5670f4db5b62c43d542e1b2d56b0cf7c  d64e758afad411049a45e42c9a259241   \n",
       "\n",
       "                           order_id                       customer_id  \\\n",
       "0  0032d07457ae9c806c79368d7d9ce96b  d356c20816dc75a309628b5c17d89468   \n",
       "1  0045e3085f083f0f38d24bb3f22e6593  eb729faa993caad20442243265804a7c   \n",
       "2  0079bca8e89bd52fdb87408e4f3fb94d  137f50d5bfbcfb9578c50605cc9adb16   \n",
       "3  007ff0b0f79be782f633fc3b18cbe337  fc021f2dd664b49455528422c77b6aab   \n",
       "4  0094bd07f49fed90209ffa62d1ef26d6  de0c1a4d8c367c58d66e61dfa379f4cf   \n",
       "\n",
       "  order_purchase_timestamp        customer_city customer_state  \\\n",
       "0      2018-03-10 18:53:06       rio de janeiro             RJ   \n",
       "1      2017-08-10 16:13:36  sao jose dos campos             SP   \n",
       "2      2018-05-03 18:55:20            sao paulo             SP   \n",
       "3      2018-02-03 17:46:53       belo horizonte             MG   \n",
       "4      2018-05-01 02:04:16         praia grande             SP   \n",
       "\n",
       "   payment_sequential payment_type  payment_installments  payment_value  \\\n",
       "0                   1  credit_card                     2         186.19   \n",
       "1                   1  credit_card                     3         130.74   \n",
       "2                   1       boleto                     1          57.29   \n",
       "3                   1  credit_card                     1          55.11   \n",
       "4                   1       boleto                     1          18.92   \n",
       "\n",
       "   order_item_id shipping_limit_date   price  freight_value  \\\n",
       "0              1 2018-03-15 19:28:51  159.00          27.19   \n",
       "1              1 2017-08-17 07:15:16  116.90          13.84   \n",
       "2              1 2018-05-10 03:31:09   49.90           7.39   \n",
       "3              1 2018-02-08 20:10:10   39.00          16.11   \n",
       "4              1 2018-05-09 04:12:53   11.53           7.39   \n",
       "\n",
       "   product_category_name     seller_city seller_state  \n",
       "0  utilidades_domesticas         ipaussu           SP  \n",
       "1           beleza_saude  ribeirao preto           SP  \n",
       "2          esporte_lazer       sao paulo           SP  \n",
       "3       moveis_decoracao          amparo           SP  \n",
       "4             perfumaria       sao paulo           SP  "
      ]
     },
     "execution_count": 129,
     "metadata": {},
     "output_type": "execute_result"
    }
   ],
   "source": [
    "df_pedidos = df_pedidos.join(df_vendedor, 'seller_id', how='inner')\n",
    "df_pedidos.limit(5).toPandas()"
   ]
  },
  {
   "cell_type": "code",
   "execution_count": 138,
   "metadata": {},
   "outputs": [
    {
     "name": "stdout",
     "output_type": "stream",
     "text": [
      "+---------+----------+--------+-----------+------------------------+-------------+--------------+------------------+------------+--------------------+-------------+-------------+-------------------+-----+-------------+---------------------+-----------+------------+\n",
      "|seller_id|product_id|order_id|customer_id|order_purchase_timestamp|customer_city|customer_state|payment_sequential|payment_type|payment_installments|payment_value|order_item_id|shipping_limit_date|price|freight_value|product_category_name|seller_city|seller_state|\n",
      "+---------+----------+--------+-----------+------------------------+-------------+--------------+------------------+------------+--------------------+-------------+-------------+-------------------+-----+-------------+---------------------+-----------+------------+\n",
      "|        0|         0|       0|          0|                       0|            0|             0|                 0|           0|                   0|            0|            0|                  0|    0|            0|                    0|          0|           0|\n",
      "+---------+----------+--------+-----------+------------------------+-------------+--------------+------------------+------------+--------------------+-------------+-------------+-------------------+-----+-------------+---------------------+-----------+------------+\n",
      "\n"
     ]
    }
   ],
   "source": [
    "df_pedidos.select([f.count(f.when(f.isnull(c), 1)).alias(c) for c in df_pedidos.columns]).show()"
   ]
  },
  {
   "cell_type": "code",
   "execution_count": 131,
   "metadata": {},
   "outputs": [
    {
     "data": {
      "text/plain": [
       "115035"
      ]
     },
     "execution_count": 131,
     "metadata": {},
     "output_type": "execute_result"
    }
   ],
   "source": [
    "df_pedidos.count()"
   ]
  },
  {
   "cell_type": "code",
   "execution_count": 137,
   "metadata": {},
   "outputs": [
    {
     "name": "stdout",
     "output_type": "stream",
     "text": [
      "+----------------------+---------+----------+--------+-----------+------------------------+-------------+--------------+------------------+------------+--------------------+-------------+-------------+-------------------+-----+-------------+---------------------+-----------+------------+\n",
      "|product_category_name2|seller_id|product_id|order_id|customer_id|order_purchase_timestamp|customer_city|customer_state|payment_sequential|payment_type|payment_installments|payment_value|order_item_id|shipping_limit_date|price|freight_value|product_category_name|seller_city|seller_state|\n",
      "+----------------------+---------+----------+--------+-----------+------------------------+-------------+--------------+------------------+------------+--------------------+-------------+-------------+-------------------+-----+-------------+---------------------+-----------+------------+\n",
      "+----------------------+---------+----------+--------+-----------+------------------------+-------------+--------------+------------------+------------+--------------------+-------------+-------------+-------------------+-----+-------------+---------------------+-----------+------------+\n",
      "\n"
     ]
    }
   ],
   "source": [
    "df_pedidos.select([f.when(f.isnull('product_category_name'), 1).alias('product_category_name2'), '*'] )\\\n",
    "    .where(\"product_category_name2==1\").show()"
   ]
  },
  {
   "cell_type": "code",
   "execution_count": 136,
   "metadata": {},
   "outputs": [],
   "source": [
    "df_pedidos = df_pedidos.na.drop()"
   ]
  },
  {
   "attachments": {},
   "cell_type": "markdown",
   "metadata": {},
   "source": [
    "top 10 por estados "
   ]
  },
  {
   "cell_type": "code",
   "execution_count": 148,
   "metadata": {},
   "outputs": [
    {
     "name": "stdout",
     "output_type": "stream",
     "text": [
      "+--------------+-----+\n",
      "|customer_state|count|\n",
      "+--------------+-----+\n",
      "|SP            |47840|\n",
      "|RJ            |14651|\n",
      "|MG            |13236|\n",
      "|RS            |6288 |\n",
      "|PR            |5790 |\n",
      "|SC            |4160 |\n",
      "|BA            |3859 |\n",
      "|DF            |2389 |\n",
      "|GO            |2319 |\n",
      "|ES            |2288 |\n",
      "+--------------+-----+\n",
      "only showing top 10 rows\n",
      "\n"
     ]
    }
   ],
   "source": [
    "df_pedidos\\\n",
    "    .select('customer_state')\\\n",
    "    .groupBy('customer_state')\\\n",
    "    .count()\\\n",
    "    .orderBy('count', ascending = 0)\\\n",
    "    .show(10, truncate=False) "
   ]
  },
  {
   "attachments": {},
   "cell_type": "markdown",
   "metadata": {},
   "source": [
    "media por estados "
   ]
  },
  {
   "cell_type": "code",
   "execution_count": 157,
   "metadata": {},
   "outputs": [
    {
     "name": "stdout",
     "output_type": "stream",
     "text": [
      "+--------------+-----+-----+\n",
      "|customer_state|id   |media|\n",
      "+--------------+-----+-----+\n",
      "|SP            |47840|null |\n",
      "|RJ            |14651|null |\n",
      "|MG            |13236|null |\n",
      "|RS            |6288 |null |\n",
      "|PR            |5790 |null |\n",
      "|SC            |4160 |null |\n",
      "|BA            |3859 |null |\n",
      "|DF            |2389 |null |\n",
      "|GO            |2319 |null |\n",
      "|ES            |2288 |null |\n",
      "+--------------+-----+-----+\n",
      "only showing top 10 rows\n",
      "\n"
     ]
    }
   ],
   "source": [
    "df_pedidos\\\n",
    "    .select('order_id', 'customer_state')\\\n",
    "    .groupBy('customer_state')\\\n",
    "    .agg(\n",
    "        f.count(\"order_id\").alias(\"total_state\"),\n",
    "        f.avg(\"order_id\").alias(\"media\")\n",
    "        \n",
    "    )\\\n",
    "    .orderBy('total_state', ascending = 0)\\\n",
    "    .show(10, truncate=False) "
   ]
  }
 ],
 "metadata": {
  "kernelspec": {
   "display_name": "Python 3",
   "language": "python",
   "name": "python3"
  },
  "language_info": {
   "codemirror_mode": {
    "name": "ipython",
    "version": 3
   },
   "file_extension": ".py",
   "mimetype": "text/x-python",
   "name": "python",
   "nbconvert_exporter": "python",
   "pygments_lexer": "ipython3",
   "version": "3.10.6"
  },
  "orig_nbformat": 4
 },
 "nbformat": 4,
 "nbformat_minor": 2
}
