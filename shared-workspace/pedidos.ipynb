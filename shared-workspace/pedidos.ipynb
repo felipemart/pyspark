{
 "cells": [
  {
   "cell_type": "code",
   "execution_count": 182,
   "metadata": {},
   "outputs": [],
   "source": [
    "from pyspark.sql import SparkSession\n",
    "from pyspark.sql import functions as f\n",
    "import findspark\n",
    "findspark.init()\n",
    "\n",
    "spark = SparkSession.builder \\\n",
    "    .master('local[*]') \\\n",
    "    .appName(\"Pedidos\") \\\n",
    "    .config('spark.ui.port', '4050') \\\n",
    "    .getOrCreate()"
   ]
  },
  {
   "cell_type": "code",
   "execution_count": 183,
   "metadata": {},
   "outputs": [
    {
     "data": {
      "text/html": [
       "\n",
       "            <div>\n",
       "                <p><b>SparkSession - in-memory</b></p>\n",
       "                \n",
       "        <div>\n",
       "            <p><b>SparkContext</b></p>\n",
       "\n",
       "            <p><a href=\"http://172.23.69.223:4051\">Spark UI</a></p>\n",
       "\n",
       "            <dl>\n",
       "              <dt>Version</dt>\n",
       "                <dd><code>v3.3.1</code></dd>\n",
       "              <dt>Master</dt>\n",
       "                <dd><code>local[*]</code></dd>\n",
       "              <dt>AppName</dt>\n",
       "                <dd><code>Iniciando com Spark</code></dd>\n",
       "            </dl>\n",
       "        </div>\n",
       "        \n",
       "            </div>\n",
       "        "
      ],
      "text/plain": [
       "<pyspark.sql.session.SparkSession at 0x7fc1ea033970>"
      ]
     },
     "execution_count": 183,
     "metadata": {},
     "output_type": "execute_result"
    }
   ],
   "source": [
    "spark"
   ]
  },
  {
   "attachments": {},
   "cell_type": "markdown",
   "metadata": {},
   "source": [
    "Dados do pedido"
   ]
  },
  {
   "cell_type": "code",
   "execution_count": 184,
   "metadata": {},
   "outputs": [],
   "source": [
    "path = './arquivos/olist_orders_dataset.csv'\n",
    "df_pedidos = spark.read.csv(path, sep=',', inferSchema=True, header=True)"
   ]
  },
  {
   "cell_type": "code",
   "execution_count": 185,
   "metadata": {},
   "outputs": [],
   "source": [
    "df_pedidos = df_pedidos\\\n",
    "    .select('order_id', 'customer_id', 'order_purchase_timestamp')\\\n",
    "    .filter(df_pedidos['order_status'].like('%delivered%'))"
   ]
  },
  {
   "cell_type": "code",
   "execution_count": 186,
   "metadata": {},
   "outputs": [
    {
     "name": "stderr",
     "output_type": "stream",
     "text": [
      "/usr/local/lib/python3.10/dist-packages/pyspark/sql/pandas/conversion.py:248: FutureWarning: Passing unit-less datetime64 dtype to .astype is deprecated and will raise in a future version. Pass 'datetime64[ns]' instead\n",
      "  series = series.astype(t, copy=False)\n"
     ]
    },
    {
     "data": {
      "text/html": [
       "<div>\n",
       "<style scoped>\n",
       "    .dataframe tbody tr th:only-of-type {\n",
       "        vertical-align: middle;\n",
       "    }\n",
       "\n",
       "    .dataframe tbody tr th {\n",
       "        vertical-align: top;\n",
       "    }\n",
       "\n",
       "    .dataframe thead th {\n",
       "        text-align: right;\n",
       "    }\n",
       "</style>\n",
       "<table border=\"1\" class=\"dataframe\">\n",
       "  <thead>\n",
       "    <tr style=\"text-align: right;\">\n",
       "      <th></th>\n",
       "      <th>order_id</th>\n",
       "      <th>customer_id</th>\n",
       "      <th>order_purchase_timestamp</th>\n",
       "    </tr>\n",
       "  </thead>\n",
       "  <tbody>\n",
       "    <tr>\n",
       "      <th>0</th>\n",
       "      <td>e481f51cbdc54678b7cc49136f2d6af7</td>\n",
       "      <td>9ef432eb6251297304e76186b10a928d</td>\n",
       "      <td>2017-10-02 10:56:33</td>\n",
       "    </tr>\n",
       "    <tr>\n",
       "      <th>1</th>\n",
       "      <td>53cdb2fc8bc7dce0b6741e2150273451</td>\n",
       "      <td>b0830fb4747a6c6d20dea0b8c802d7ef</td>\n",
       "      <td>2018-07-24 20:41:37</td>\n",
       "    </tr>\n",
       "    <tr>\n",
       "      <th>2</th>\n",
       "      <td>47770eb9100c2d0c44946d9cf07ec65d</td>\n",
       "      <td>41ce2a54c0b03bf3443c3d931a367089</td>\n",
       "      <td>2018-08-08 08:38:49</td>\n",
       "    </tr>\n",
       "    <tr>\n",
       "      <th>3</th>\n",
       "      <td>949d5b44dbf5de918fe9c16f97b45f8a</td>\n",
       "      <td>f88197465ea7920adcdbec7375364d82</td>\n",
       "      <td>2017-11-18 19:28:06</td>\n",
       "    </tr>\n",
       "    <tr>\n",
       "      <th>4</th>\n",
       "      <td>ad21c59c0840e6cb83a9ceb5573f8159</td>\n",
       "      <td>8ab97904e6daea8866dbdbc4fb7aad2c</td>\n",
       "      <td>2018-02-13 21:18:39</td>\n",
       "    </tr>\n",
       "  </tbody>\n",
       "</table>\n",
       "</div>"
      ],
      "text/plain": [
       "                           order_id                       customer_id  \\\n",
       "0  e481f51cbdc54678b7cc49136f2d6af7  9ef432eb6251297304e76186b10a928d   \n",
       "1  53cdb2fc8bc7dce0b6741e2150273451  b0830fb4747a6c6d20dea0b8c802d7ef   \n",
       "2  47770eb9100c2d0c44946d9cf07ec65d  41ce2a54c0b03bf3443c3d931a367089   \n",
       "3  949d5b44dbf5de918fe9c16f97b45f8a  f88197465ea7920adcdbec7375364d82   \n",
       "4  ad21c59c0840e6cb83a9ceb5573f8159  8ab97904e6daea8866dbdbc4fb7aad2c   \n",
       "\n",
       "  order_purchase_timestamp  \n",
       "0      2017-10-02 10:56:33  \n",
       "1      2018-07-24 20:41:37  \n",
       "2      2018-08-08 08:38:49  \n",
       "3      2017-11-18 19:28:06  \n",
       "4      2018-02-13 21:18:39  "
      ]
     },
     "execution_count": 186,
     "metadata": {},
     "output_type": "execute_result"
    }
   ],
   "source": [
    "df_pedidos.limit(5).toPandas()"
   ]
  },
  {
   "attachments": {},
   "cell_type": "markdown",
   "metadata": {},
   "source": [
    "dados do cliente\n"
   ]
  },
  {
   "cell_type": "code",
   "execution_count": 187,
   "metadata": {},
   "outputs": [],
   "source": [
    "path = './arquivos/olist_customers_dataset.csv'\n",
    "df_clientes = spark.read.csv(path, sep=',', inferSchema=True, header=True)"
   ]
  },
  {
   "cell_type": "code",
   "execution_count": 188,
   "metadata": {},
   "outputs": [],
   "source": [
    "df_clientes = df_clientes\\\n",
    "    .select('customer_id', 'customer_city', 'customer_state')"
   ]
  },
  {
   "cell_type": "code",
   "execution_count": 189,
   "metadata": {},
   "outputs": [
    {
     "data": {
      "text/html": [
       "<div>\n",
       "<style scoped>\n",
       "    .dataframe tbody tr th:only-of-type {\n",
       "        vertical-align: middle;\n",
       "    }\n",
       "\n",
       "    .dataframe tbody tr th {\n",
       "        vertical-align: top;\n",
       "    }\n",
       "\n",
       "    .dataframe thead th {\n",
       "        text-align: right;\n",
       "    }\n",
       "</style>\n",
       "<table border=\"1\" class=\"dataframe\">\n",
       "  <thead>\n",
       "    <tr style=\"text-align: right;\">\n",
       "      <th></th>\n",
       "      <th>customer_id</th>\n",
       "      <th>customer_city</th>\n",
       "      <th>customer_state</th>\n",
       "    </tr>\n",
       "  </thead>\n",
       "  <tbody>\n",
       "    <tr>\n",
       "      <th>0</th>\n",
       "      <td>06b8999e2fba1a1fbc88172c00ba8bc7</td>\n",
       "      <td>franca</td>\n",
       "      <td>SP</td>\n",
       "    </tr>\n",
       "    <tr>\n",
       "      <th>1</th>\n",
       "      <td>18955e83d337fd6b2def6b18a428ac77</td>\n",
       "      <td>sao bernardo do campo</td>\n",
       "      <td>SP</td>\n",
       "    </tr>\n",
       "    <tr>\n",
       "      <th>2</th>\n",
       "      <td>4e7b3e00288586ebd08712fdd0374a03</td>\n",
       "      <td>sao paulo</td>\n",
       "      <td>SP</td>\n",
       "    </tr>\n",
       "    <tr>\n",
       "      <th>3</th>\n",
       "      <td>b2b6027bc5c5109e529d4dc6358b12c3</td>\n",
       "      <td>mogi das cruzes</td>\n",
       "      <td>SP</td>\n",
       "    </tr>\n",
       "    <tr>\n",
       "      <th>4</th>\n",
       "      <td>4f2d8ab171c80ec8364f7c12e35b23ad</td>\n",
       "      <td>campinas</td>\n",
       "      <td>SP</td>\n",
       "    </tr>\n",
       "  </tbody>\n",
       "</table>\n",
       "</div>"
      ],
      "text/plain": [
       "                        customer_id          customer_city customer_state\n",
       "0  06b8999e2fba1a1fbc88172c00ba8bc7                 franca             SP\n",
       "1  18955e83d337fd6b2def6b18a428ac77  sao bernardo do campo             SP\n",
       "2  4e7b3e00288586ebd08712fdd0374a03              sao paulo             SP\n",
       "3  b2b6027bc5c5109e529d4dc6358b12c3        mogi das cruzes             SP\n",
       "4  4f2d8ab171c80ec8364f7c12e35b23ad               campinas             SP"
      ]
     },
     "execution_count": 189,
     "metadata": {},
     "output_type": "execute_result"
    }
   ],
   "source": [
    "df_clientes.limit(5).toPandas()"
   ]
  },
  {
   "cell_type": "code",
   "execution_count": 190,
   "metadata": {},
   "outputs": [],
   "source": [
    "df_pedidos = df_pedidos.join(df_clientes, 'customer_id', how='inner')\\\n",
    "    .sort('customer_id')"
   ]
  },
  {
   "attachments": {},
   "cell_type": "markdown",
   "metadata": {},
   "source": [
    "dados de pagamentos"
   ]
  },
  {
   "cell_type": "code",
   "execution_count": 191,
   "metadata": {},
   "outputs": [],
   "source": [
    "path = './arquivos/olist_order_payments_dataset.csv'\n",
    "df_pagamentos = spark.read.csv(path, sep=',', inferSchema=True, header=True)"
   ]
  },
  {
   "cell_type": "code",
   "execution_count": 192,
   "metadata": {},
   "outputs": [
    {
     "data": {
      "text/html": [
       "<div>\n",
       "<style scoped>\n",
       "    .dataframe tbody tr th:only-of-type {\n",
       "        vertical-align: middle;\n",
       "    }\n",
       "\n",
       "    .dataframe tbody tr th {\n",
       "        vertical-align: top;\n",
       "    }\n",
       "\n",
       "    .dataframe thead th {\n",
       "        text-align: right;\n",
       "    }\n",
       "</style>\n",
       "<table border=\"1\" class=\"dataframe\">\n",
       "  <thead>\n",
       "    <tr style=\"text-align: right;\">\n",
       "      <th></th>\n",
       "      <th>order_id</th>\n",
       "      <th>payment_sequential</th>\n",
       "      <th>payment_type</th>\n",
       "      <th>payment_installments</th>\n",
       "      <th>payment_value</th>\n",
       "    </tr>\n",
       "  </thead>\n",
       "  <tbody>\n",
       "    <tr>\n",
       "      <th>0</th>\n",
       "      <td>b81ef226f3fe1789b1e8b2acac839d17</td>\n",
       "      <td>1</td>\n",
       "      <td>credit_card</td>\n",
       "      <td>8</td>\n",
       "      <td>99.33</td>\n",
       "    </tr>\n",
       "    <tr>\n",
       "      <th>1</th>\n",
       "      <td>a9810da82917af2d9aefd1278f1dcfa0</td>\n",
       "      <td>1</td>\n",
       "      <td>credit_card</td>\n",
       "      <td>1</td>\n",
       "      <td>24.39</td>\n",
       "    </tr>\n",
       "    <tr>\n",
       "      <th>2</th>\n",
       "      <td>25e8ea4e93396b6fa0d3dd708e76c1bd</td>\n",
       "      <td>1</td>\n",
       "      <td>credit_card</td>\n",
       "      <td>1</td>\n",
       "      <td>65.71</td>\n",
       "    </tr>\n",
       "    <tr>\n",
       "      <th>3</th>\n",
       "      <td>ba78997921bbcdc1373bb41e913ab953</td>\n",
       "      <td>1</td>\n",
       "      <td>credit_card</td>\n",
       "      <td>8</td>\n",
       "      <td>107.78</td>\n",
       "    </tr>\n",
       "    <tr>\n",
       "      <th>4</th>\n",
       "      <td>42fdf880ba16b47b59251dd489d4441a</td>\n",
       "      <td>1</td>\n",
       "      <td>credit_card</td>\n",
       "      <td>2</td>\n",
       "      <td>128.45</td>\n",
       "    </tr>\n",
       "  </tbody>\n",
       "</table>\n",
       "</div>"
      ],
      "text/plain": [
       "                           order_id  payment_sequential payment_type  \\\n",
       "0  b81ef226f3fe1789b1e8b2acac839d17                   1  credit_card   \n",
       "1  a9810da82917af2d9aefd1278f1dcfa0                   1  credit_card   \n",
       "2  25e8ea4e93396b6fa0d3dd708e76c1bd                   1  credit_card   \n",
       "3  ba78997921bbcdc1373bb41e913ab953                   1  credit_card   \n",
       "4  42fdf880ba16b47b59251dd489d4441a                   1  credit_card   \n",
       "\n",
       "   payment_installments  payment_value  \n",
       "0                     8          99.33  \n",
       "1                     1          24.39  \n",
       "2                     1          65.71  \n",
       "3                     8         107.78  \n",
       "4                     2         128.45  "
      ]
     },
     "execution_count": 192,
     "metadata": {},
     "output_type": "execute_result"
    }
   ],
   "source": [
    "df_pagamentos.limit(5).toPandas()"
   ]
  },
  {
   "cell_type": "code",
   "execution_count": 193,
   "metadata": {},
   "outputs": [],
   "source": [
    "df_pedidos = df_pedidos.join(df_pagamentos, 'order_id', how='inner')\\\n",
    "    .sort('order_id')"
   ]
  },
  {
   "attachments": {},
   "cell_type": "markdown",
   "metadata": {},
   "source": [
    "dados dos itens do pedido"
   ]
  },
  {
   "cell_type": "code",
   "execution_count": 194,
   "metadata": {},
   "outputs": [],
   "source": [
    "path = './arquivos/olist_order_items_dataset.csv'\n",
    "df_pedidos_itens = spark.read.csv(path, sep=',', inferSchema=True, header=True)"
   ]
  },
  {
   "cell_type": "code",
   "execution_count": 195,
   "metadata": {},
   "outputs": [
    {
     "name": "stderr",
     "output_type": "stream",
     "text": [
      "/usr/local/lib/python3.10/dist-packages/pyspark/sql/pandas/conversion.py:248: FutureWarning: Passing unit-less datetime64 dtype to .astype is deprecated and will raise in a future version. Pass 'datetime64[ns]' instead\n",
      "  series = series.astype(t, copy=False)\n"
     ]
    }
   ],
   "source": [
    "df_pedidos_itens.limit(5).toPandas()\n",
    "df_pedidos = df_pedidos.join(df_pedidos_itens, 'order_id', how='inner')\\\n",
    "    .sort('order_id')"
   ]
  },
  {
   "attachments": {},
   "cell_type": "markdown",
   "metadata": {},
   "source": [
    "dados do produtos "
   ]
  },
  {
   "cell_type": "code",
   "execution_count": 196,
   "metadata": {},
   "outputs": [],
   "source": [
    "path = './arquivos/olist_products_dataset.csv'\n",
    "df_produtos = spark.read.csv(path, sep=',', inferSchema=True, header=True)"
   ]
  },
  {
   "cell_type": "code",
   "execution_count": 197,
   "metadata": {},
   "outputs": [
    {
     "data": {
      "text/html": [
       "<div>\n",
       "<style scoped>\n",
       "    .dataframe tbody tr th:only-of-type {\n",
       "        vertical-align: middle;\n",
       "    }\n",
       "\n",
       "    .dataframe tbody tr th {\n",
       "        vertical-align: top;\n",
       "    }\n",
       "\n",
       "    .dataframe thead th {\n",
       "        text-align: right;\n",
       "    }\n",
       "</style>\n",
       "<table border=\"1\" class=\"dataframe\">\n",
       "  <thead>\n",
       "    <tr style=\"text-align: right;\">\n",
       "      <th></th>\n",
       "      <th>product_id</th>\n",
       "      <th>product_category_name</th>\n",
       "    </tr>\n",
       "  </thead>\n",
       "  <tbody>\n",
       "    <tr>\n",
       "      <th>0</th>\n",
       "      <td>1e9e8ef04dbcff4541ed26657ea517e5</td>\n",
       "      <td>perfumaria</td>\n",
       "    </tr>\n",
       "    <tr>\n",
       "      <th>1</th>\n",
       "      <td>3aa071139cb16b67ca9e5dea641aaa2f</td>\n",
       "      <td>artes</td>\n",
       "    </tr>\n",
       "    <tr>\n",
       "      <th>2</th>\n",
       "      <td>96bd76ec8810374ed1b65e291975717f</td>\n",
       "      <td>esporte_lazer</td>\n",
       "    </tr>\n",
       "    <tr>\n",
       "      <th>3</th>\n",
       "      <td>cef67bcfe19066a932b7673e239eb23d</td>\n",
       "      <td>bebes</td>\n",
       "    </tr>\n",
       "    <tr>\n",
       "      <th>4</th>\n",
       "      <td>9dc1a7de274444849c219cff195d0b71</td>\n",
       "      <td>utilidades_domesticas</td>\n",
       "    </tr>\n",
       "  </tbody>\n",
       "</table>\n",
       "</div>"
      ],
      "text/plain": [
       "                         product_id  product_category_name\n",
       "0  1e9e8ef04dbcff4541ed26657ea517e5             perfumaria\n",
       "1  3aa071139cb16b67ca9e5dea641aaa2f                  artes\n",
       "2  96bd76ec8810374ed1b65e291975717f          esporte_lazer\n",
       "3  cef67bcfe19066a932b7673e239eb23d                  bebes\n",
       "4  9dc1a7de274444849c219cff195d0b71  utilidades_domesticas"
      ]
     },
     "execution_count": 197,
     "metadata": {},
     "output_type": "execute_result"
    }
   ],
   "source": [
    "\n",
    "df_produtos = df_produtos\\\n",
    "    .select('product_id', 'product_category_name')\n",
    "df_produtos.limit(5).toPandas()"
   ]
  },
  {
   "cell_type": "code",
   "execution_count": 198,
   "metadata": {},
   "outputs": [
    {
     "name": "stderr",
     "output_type": "stream",
     "text": [
      "/usr/local/lib/python3.10/dist-packages/pyspark/sql/pandas/conversion.py:248: FutureWarning: Passing unit-less datetime64 dtype to .astype is deprecated and will raise in a future version. Pass 'datetime64[ns]' instead\n",
      "  series = series.astype(t, copy=False)\n",
      "/usr/local/lib/python3.10/dist-packages/pyspark/sql/pandas/conversion.py:248: FutureWarning: Passing unit-less datetime64 dtype to .astype is deprecated and will raise in a future version. Pass 'datetime64[ns]' instead\n",
      "  series = series.astype(t, copy=False)\n"
     ]
    },
    {
     "data": {
      "text/html": [
       "<div>\n",
       "<style scoped>\n",
       "    .dataframe tbody tr th:only-of-type {\n",
       "        vertical-align: middle;\n",
       "    }\n",
       "\n",
       "    .dataframe tbody tr th {\n",
       "        vertical-align: top;\n",
       "    }\n",
       "\n",
       "    .dataframe thead th {\n",
       "        text-align: right;\n",
       "    }\n",
       "</style>\n",
       "<table border=\"1\" class=\"dataframe\">\n",
       "  <thead>\n",
       "    <tr style=\"text-align: right;\">\n",
       "      <th></th>\n",
       "      <th>product_id</th>\n",
       "      <th>order_id</th>\n",
       "      <th>customer_id</th>\n",
       "      <th>order_purchase_timestamp</th>\n",
       "      <th>customer_city</th>\n",
       "      <th>customer_state</th>\n",
       "      <th>payment_sequential</th>\n",
       "      <th>payment_type</th>\n",
       "      <th>payment_installments</th>\n",
       "      <th>payment_value</th>\n",
       "      <th>order_item_id</th>\n",
       "      <th>seller_id</th>\n",
       "      <th>shipping_limit_date</th>\n",
       "      <th>price</th>\n",
       "      <th>freight_value</th>\n",
       "      <th>product_category_name</th>\n",
       "    </tr>\n",
       "  </thead>\n",
       "  <tbody>\n",
       "    <tr>\n",
       "      <th>0</th>\n",
       "      <td>08279c494018541f71443c07d77560f8</td>\n",
       "      <td>0032d07457ae9c806c79368d7d9ce96b</td>\n",
       "      <td>d356c20816dc75a309628b5c17d89468</td>\n",
       "      <td>2018-03-10 18:53:06</td>\n",
       "      <td>rio de janeiro</td>\n",
       "      <td>RJ</td>\n",
       "      <td>1</td>\n",
       "      <td>credit_card</td>\n",
       "      <td>2</td>\n",
       "      <td>186.19</td>\n",
       "      <td>1</td>\n",
       "      <td>e333046ce6517bd8bb510291d44f0130</td>\n",
       "      <td>2018-03-15 19:28:51</td>\n",
       "      <td>159.00</td>\n",
       "      <td>27.19</td>\n",
       "      <td>utilidades_domesticas</td>\n",
       "    </tr>\n",
       "    <tr>\n",
       "      <th>1</th>\n",
       "      <td>9545d45c37449ccbc376de3a04c66e71</td>\n",
       "      <td>0045e3085f083f0f38d24bb3f22e6593</td>\n",
       "      <td>eb729faa993caad20442243265804a7c</td>\n",
       "      <td>2017-08-10 16:13:36</td>\n",
       "      <td>sao jose dos campos</td>\n",
       "      <td>SP</td>\n",
       "      <td>1</td>\n",
       "      <td>credit_card</td>\n",
       "      <td>3</td>\n",
       "      <td>130.74</td>\n",
       "      <td>1</td>\n",
       "      <td>431af27f296bc6519d890aa5a05fdb11</td>\n",
       "      <td>2017-08-17 07:15:16</td>\n",
       "      <td>116.90</td>\n",
       "      <td>13.84</td>\n",
       "      <td>beleza_saude</td>\n",
       "    </tr>\n",
       "    <tr>\n",
       "      <th>2</th>\n",
       "      <td>19421075ae0b585f2dc13ff149e2119d</td>\n",
       "      <td>0079bca8e89bd52fdb87408e4f3fb94d</td>\n",
       "      <td>137f50d5bfbcfb9578c50605cc9adb16</td>\n",
       "      <td>2018-05-03 18:55:20</td>\n",
       "      <td>sao paulo</td>\n",
       "      <td>SP</td>\n",
       "      <td>1</td>\n",
       "      <td>boleto</td>\n",
       "      <td>1</td>\n",
       "      <td>57.29</td>\n",
       "      <td>1</td>\n",
       "      <td>4c2b230173bb36f9b240f2b8ac11786e</td>\n",
       "      <td>2018-05-10 03:31:09</td>\n",
       "      <td>49.90</td>\n",
       "      <td>7.39</td>\n",
       "      <td>esporte_lazer</td>\n",
       "    </tr>\n",
       "    <tr>\n",
       "      <th>3</th>\n",
       "      <td>e819fddd6622f30e872bfc89471c1408</td>\n",
       "      <td>007ff0b0f79be782f633fc3b18cbe337</td>\n",
       "      <td>fc021f2dd664b49455528422c77b6aab</td>\n",
       "      <td>2018-02-03 17:46:53</td>\n",
       "      <td>belo horizonte</td>\n",
       "      <td>MG</td>\n",
       "      <td>1</td>\n",
       "      <td>credit_card</td>\n",
       "      <td>1</td>\n",
       "      <td>55.11</td>\n",
       "      <td>1</td>\n",
       "      <td>7139dc5186aa238b006e066d8fbab2e4</td>\n",
       "      <td>2018-02-08 20:10:10</td>\n",
       "      <td>39.00</td>\n",
       "      <td>16.11</td>\n",
       "      <td>moveis_decoracao</td>\n",
       "    </tr>\n",
       "    <tr>\n",
       "      <th>4</th>\n",
       "      <td>d64e758afad411049a45e42c9a259241</td>\n",
       "      <td>0094bd07f49fed90209ffa62d1ef26d6</td>\n",
       "      <td>de0c1a4d8c367c58d66e61dfa379f4cf</td>\n",
       "      <td>2018-05-01 02:04:16</td>\n",
       "      <td>praia grande</td>\n",
       "      <td>SP</td>\n",
       "      <td>1</td>\n",
       "      <td>boleto</td>\n",
       "      <td>1</td>\n",
       "      <td>18.92</td>\n",
       "      <td>1</td>\n",
       "      <td>5670f4db5b62c43d542e1b2d56b0cf7c</td>\n",
       "      <td>2018-05-09 04:12:53</td>\n",
       "      <td>11.53</td>\n",
       "      <td>7.39</td>\n",
       "      <td>perfumaria</td>\n",
       "    </tr>\n",
       "  </tbody>\n",
       "</table>\n",
       "</div>"
      ],
      "text/plain": [
       "                         product_id                          order_id  \\\n",
       "0  08279c494018541f71443c07d77560f8  0032d07457ae9c806c79368d7d9ce96b   \n",
       "1  9545d45c37449ccbc376de3a04c66e71  0045e3085f083f0f38d24bb3f22e6593   \n",
       "2  19421075ae0b585f2dc13ff149e2119d  0079bca8e89bd52fdb87408e4f3fb94d   \n",
       "3  e819fddd6622f30e872bfc89471c1408  007ff0b0f79be782f633fc3b18cbe337   \n",
       "4  d64e758afad411049a45e42c9a259241  0094bd07f49fed90209ffa62d1ef26d6   \n",
       "\n",
       "                        customer_id order_purchase_timestamp  \\\n",
       "0  d356c20816dc75a309628b5c17d89468      2018-03-10 18:53:06   \n",
       "1  eb729faa993caad20442243265804a7c      2017-08-10 16:13:36   \n",
       "2  137f50d5bfbcfb9578c50605cc9adb16      2018-05-03 18:55:20   \n",
       "3  fc021f2dd664b49455528422c77b6aab      2018-02-03 17:46:53   \n",
       "4  de0c1a4d8c367c58d66e61dfa379f4cf      2018-05-01 02:04:16   \n",
       "\n",
       "         customer_city customer_state  payment_sequential payment_type  \\\n",
       "0       rio de janeiro             RJ                   1  credit_card   \n",
       "1  sao jose dos campos             SP                   1  credit_card   \n",
       "2            sao paulo             SP                   1       boleto   \n",
       "3       belo horizonte             MG                   1  credit_card   \n",
       "4         praia grande             SP                   1       boleto   \n",
       "\n",
       "   payment_installments  payment_value  order_item_id  \\\n",
       "0                     2         186.19              1   \n",
       "1                     3         130.74              1   \n",
       "2                     1          57.29              1   \n",
       "3                     1          55.11              1   \n",
       "4                     1          18.92              1   \n",
       "\n",
       "                          seller_id shipping_limit_date   price  \\\n",
       "0  e333046ce6517bd8bb510291d44f0130 2018-03-15 19:28:51  159.00   \n",
       "1  431af27f296bc6519d890aa5a05fdb11 2017-08-17 07:15:16  116.90   \n",
       "2  4c2b230173bb36f9b240f2b8ac11786e 2018-05-10 03:31:09   49.90   \n",
       "3  7139dc5186aa238b006e066d8fbab2e4 2018-02-08 20:10:10   39.00   \n",
       "4  5670f4db5b62c43d542e1b2d56b0cf7c 2018-05-09 04:12:53   11.53   \n",
       "\n",
       "   freight_value  product_category_name  \n",
       "0          27.19  utilidades_domesticas  \n",
       "1          13.84           beleza_saude  \n",
       "2           7.39          esporte_lazer  \n",
       "3          16.11       moveis_decoracao  \n",
       "4           7.39             perfumaria  "
      ]
     },
     "execution_count": 198,
     "metadata": {},
     "output_type": "execute_result"
    }
   ],
   "source": [
    "df_pedidos = df_pedidos.join(df_produtos, 'product_id', how='inner')\n",
    "df_pedidos.limit(5).toPandas()"
   ]
  },
  {
   "attachments": {},
   "cell_type": "markdown",
   "metadata": {},
   "source": [
    "dados vendedor "
   ]
  },
  {
   "cell_type": "code",
   "execution_count": 199,
   "metadata": {},
   "outputs": [],
   "source": [
    "path = './arquivos/olist_sellers_dataset.csv'\n",
    "df_vendedor  = spark.read.csv(path, sep=',', inferSchema=True, header=True)"
   ]
  },
  {
   "cell_type": "code",
   "execution_count": 200,
   "metadata": {},
   "outputs": [],
   "source": [
    "df_vendedor = df_vendedor\\\n",
    "    .select('seller_id', 'seller_city',  'seller_state')"
   ]
  },
  {
   "cell_type": "code",
   "execution_count": 201,
   "metadata": {},
   "outputs": [
    {
     "name": "stderr",
     "output_type": "stream",
     "text": [
      "/usr/local/lib/python3.10/dist-packages/pyspark/sql/pandas/conversion.py:248: FutureWarning: Passing unit-less datetime64 dtype to .astype is deprecated and will raise in a future version. Pass 'datetime64[ns]' instead\n",
      "  series = series.astype(t, copy=False)\n",
      "/usr/local/lib/python3.10/dist-packages/pyspark/sql/pandas/conversion.py:248: FutureWarning: Passing unit-less datetime64 dtype to .astype is deprecated and will raise in a future version. Pass 'datetime64[ns]' instead\n",
      "  series = series.astype(t, copy=False)\n"
     ]
    },
    {
     "data": {
      "text/html": [
       "<div>\n",
       "<style scoped>\n",
       "    .dataframe tbody tr th:only-of-type {\n",
       "        vertical-align: middle;\n",
       "    }\n",
       "\n",
       "    .dataframe tbody tr th {\n",
       "        vertical-align: top;\n",
       "    }\n",
       "\n",
       "    .dataframe thead th {\n",
       "        text-align: right;\n",
       "    }\n",
       "</style>\n",
       "<table border=\"1\" class=\"dataframe\">\n",
       "  <thead>\n",
       "    <tr style=\"text-align: right;\">\n",
       "      <th></th>\n",
       "      <th>seller_id</th>\n",
       "      <th>product_id</th>\n",
       "      <th>order_id</th>\n",
       "      <th>customer_id</th>\n",
       "      <th>order_purchase_timestamp</th>\n",
       "      <th>customer_city</th>\n",
       "      <th>customer_state</th>\n",
       "      <th>payment_sequential</th>\n",
       "      <th>payment_type</th>\n",
       "      <th>payment_installments</th>\n",
       "      <th>payment_value</th>\n",
       "      <th>order_item_id</th>\n",
       "      <th>shipping_limit_date</th>\n",
       "      <th>price</th>\n",
       "      <th>freight_value</th>\n",
       "      <th>product_category_name</th>\n",
       "      <th>seller_city</th>\n",
       "      <th>seller_state</th>\n",
       "    </tr>\n",
       "  </thead>\n",
       "  <tbody>\n",
       "    <tr>\n",
       "      <th>0</th>\n",
       "      <td>e333046ce6517bd8bb510291d44f0130</td>\n",
       "      <td>08279c494018541f71443c07d77560f8</td>\n",
       "      <td>0032d07457ae9c806c79368d7d9ce96b</td>\n",
       "      <td>d356c20816dc75a309628b5c17d89468</td>\n",
       "      <td>2018-03-10 18:53:06</td>\n",
       "      <td>rio de janeiro</td>\n",
       "      <td>RJ</td>\n",
       "      <td>1</td>\n",
       "      <td>credit_card</td>\n",
       "      <td>2</td>\n",
       "      <td>186.19</td>\n",
       "      <td>1</td>\n",
       "      <td>2018-03-15 19:28:51</td>\n",
       "      <td>159.00</td>\n",
       "      <td>27.19</td>\n",
       "      <td>utilidades_domesticas</td>\n",
       "      <td>ipaussu</td>\n",
       "      <td>SP</td>\n",
       "    </tr>\n",
       "    <tr>\n",
       "      <th>1</th>\n",
       "      <td>431af27f296bc6519d890aa5a05fdb11</td>\n",
       "      <td>9545d45c37449ccbc376de3a04c66e71</td>\n",
       "      <td>0045e3085f083f0f38d24bb3f22e6593</td>\n",
       "      <td>eb729faa993caad20442243265804a7c</td>\n",
       "      <td>2017-08-10 16:13:36</td>\n",
       "      <td>sao jose dos campos</td>\n",
       "      <td>SP</td>\n",
       "      <td>1</td>\n",
       "      <td>credit_card</td>\n",
       "      <td>3</td>\n",
       "      <td>130.74</td>\n",
       "      <td>1</td>\n",
       "      <td>2017-08-17 07:15:16</td>\n",
       "      <td>116.90</td>\n",
       "      <td>13.84</td>\n",
       "      <td>beleza_saude</td>\n",
       "      <td>ribeirao preto</td>\n",
       "      <td>SP</td>\n",
       "    </tr>\n",
       "    <tr>\n",
       "      <th>2</th>\n",
       "      <td>4c2b230173bb36f9b240f2b8ac11786e</td>\n",
       "      <td>19421075ae0b585f2dc13ff149e2119d</td>\n",
       "      <td>0079bca8e89bd52fdb87408e4f3fb94d</td>\n",
       "      <td>137f50d5bfbcfb9578c50605cc9adb16</td>\n",
       "      <td>2018-05-03 18:55:20</td>\n",
       "      <td>sao paulo</td>\n",
       "      <td>SP</td>\n",
       "      <td>1</td>\n",
       "      <td>boleto</td>\n",
       "      <td>1</td>\n",
       "      <td>57.29</td>\n",
       "      <td>1</td>\n",
       "      <td>2018-05-10 03:31:09</td>\n",
       "      <td>49.90</td>\n",
       "      <td>7.39</td>\n",
       "      <td>esporte_lazer</td>\n",
       "      <td>sao paulo</td>\n",
       "      <td>SP</td>\n",
       "    </tr>\n",
       "    <tr>\n",
       "      <th>3</th>\n",
       "      <td>7139dc5186aa238b006e066d8fbab2e4</td>\n",
       "      <td>e819fddd6622f30e872bfc89471c1408</td>\n",
       "      <td>007ff0b0f79be782f633fc3b18cbe337</td>\n",
       "      <td>fc021f2dd664b49455528422c77b6aab</td>\n",
       "      <td>2018-02-03 17:46:53</td>\n",
       "      <td>belo horizonte</td>\n",
       "      <td>MG</td>\n",
       "      <td>1</td>\n",
       "      <td>credit_card</td>\n",
       "      <td>1</td>\n",
       "      <td>55.11</td>\n",
       "      <td>1</td>\n",
       "      <td>2018-02-08 20:10:10</td>\n",
       "      <td>39.00</td>\n",
       "      <td>16.11</td>\n",
       "      <td>moveis_decoracao</td>\n",
       "      <td>amparo</td>\n",
       "      <td>SP</td>\n",
       "    </tr>\n",
       "    <tr>\n",
       "      <th>4</th>\n",
       "      <td>5670f4db5b62c43d542e1b2d56b0cf7c</td>\n",
       "      <td>d64e758afad411049a45e42c9a259241</td>\n",
       "      <td>0094bd07f49fed90209ffa62d1ef26d6</td>\n",
       "      <td>de0c1a4d8c367c58d66e61dfa379f4cf</td>\n",
       "      <td>2018-05-01 02:04:16</td>\n",
       "      <td>praia grande</td>\n",
       "      <td>SP</td>\n",
       "      <td>1</td>\n",
       "      <td>boleto</td>\n",
       "      <td>1</td>\n",
       "      <td>18.92</td>\n",
       "      <td>1</td>\n",
       "      <td>2018-05-09 04:12:53</td>\n",
       "      <td>11.53</td>\n",
       "      <td>7.39</td>\n",
       "      <td>perfumaria</td>\n",
       "      <td>sao paulo</td>\n",
       "      <td>SP</td>\n",
       "    </tr>\n",
       "  </tbody>\n",
       "</table>\n",
       "</div>"
      ],
      "text/plain": [
       "                          seller_id                        product_id  \\\n",
       "0  e333046ce6517bd8bb510291d44f0130  08279c494018541f71443c07d77560f8   \n",
       "1  431af27f296bc6519d890aa5a05fdb11  9545d45c37449ccbc376de3a04c66e71   \n",
       "2  4c2b230173bb36f9b240f2b8ac11786e  19421075ae0b585f2dc13ff149e2119d   \n",
       "3  7139dc5186aa238b006e066d8fbab2e4  e819fddd6622f30e872bfc89471c1408   \n",
       "4  5670f4db5b62c43d542e1b2d56b0cf7c  d64e758afad411049a45e42c9a259241   \n",
       "\n",
       "                           order_id                       customer_id  \\\n",
       "0  0032d07457ae9c806c79368d7d9ce96b  d356c20816dc75a309628b5c17d89468   \n",
       "1  0045e3085f083f0f38d24bb3f22e6593  eb729faa993caad20442243265804a7c   \n",
       "2  0079bca8e89bd52fdb87408e4f3fb94d  137f50d5bfbcfb9578c50605cc9adb16   \n",
       "3  007ff0b0f79be782f633fc3b18cbe337  fc021f2dd664b49455528422c77b6aab   \n",
       "4  0094bd07f49fed90209ffa62d1ef26d6  de0c1a4d8c367c58d66e61dfa379f4cf   \n",
       "\n",
       "  order_purchase_timestamp        customer_city customer_state  \\\n",
       "0      2018-03-10 18:53:06       rio de janeiro             RJ   \n",
       "1      2017-08-10 16:13:36  sao jose dos campos             SP   \n",
       "2      2018-05-03 18:55:20            sao paulo             SP   \n",
       "3      2018-02-03 17:46:53       belo horizonte             MG   \n",
       "4      2018-05-01 02:04:16         praia grande             SP   \n",
       "\n",
       "   payment_sequential payment_type  payment_installments  payment_value  \\\n",
       "0                   1  credit_card                     2         186.19   \n",
       "1                   1  credit_card                     3         130.74   \n",
       "2                   1       boleto                     1          57.29   \n",
       "3                   1  credit_card                     1          55.11   \n",
       "4                   1       boleto                     1          18.92   \n",
       "\n",
       "   order_item_id shipping_limit_date   price  freight_value  \\\n",
       "0              1 2018-03-15 19:28:51  159.00          27.19   \n",
       "1              1 2017-08-17 07:15:16  116.90          13.84   \n",
       "2              1 2018-05-10 03:31:09   49.90           7.39   \n",
       "3              1 2018-02-08 20:10:10   39.00          16.11   \n",
       "4              1 2018-05-09 04:12:53   11.53           7.39   \n",
       "\n",
       "   product_category_name     seller_city seller_state  \n",
       "0  utilidades_domesticas         ipaussu           SP  \n",
       "1           beleza_saude  ribeirao preto           SP  \n",
       "2          esporte_lazer       sao paulo           SP  \n",
       "3       moveis_decoracao          amparo           SP  \n",
       "4             perfumaria       sao paulo           SP  "
      ]
     },
     "execution_count": 201,
     "metadata": {},
     "output_type": "execute_result"
    }
   ],
   "source": [
    "df_pedidos = df_pedidos.join(df_vendedor, 'seller_id', how='inner')\n",
    "df_pedidos.limit(5).toPandas()"
   ]
  },
  {
   "cell_type": "code",
   "execution_count": 202,
   "metadata": {},
   "outputs": [
    {
     "name": "stdout",
     "output_type": "stream",
     "text": [
      "+---------+----------+--------+-----------+------------------------+-------------+--------------+------------------+------------+--------------------+-------------+-------------+-------------------+-----+-------------+---------------------+-----------+------------+\n",
      "|seller_id|product_id|order_id|customer_id|order_purchase_timestamp|customer_city|customer_state|payment_sequential|payment_type|payment_installments|payment_value|order_item_id|shipping_limit_date|price|freight_value|product_category_name|seller_city|seller_state|\n",
      "+---------+----------+--------+-----------+------------------------+-------------+--------------+------------------+------------+--------------------+-------------+-------------+-------------------+-----+-------------+---------------------+-----------+------------+\n",
      "|        0|         0|       0|          0|                       0|            0|             0|                 0|           0|                   0|            0|            0|                  0|    0|            0|                 1628|          0|           0|\n",
      "+---------+----------+--------+-----------+------------------------+-------------+--------------+------------------+------------+--------------------+-------------+-------------+-------------------+-----+-------------+---------------------+-----------+------------+\n",
      "\n"
     ]
    }
   ],
   "source": [
    "df_pedidos.select([f.count(f.when(f.isnull(c), 1)).alias(c) for c in df_pedidos.columns]).show()"
   ]
  },
  {
   "cell_type": "code",
   "execution_count": 203,
   "metadata": {},
   "outputs": [
    {
     "data": {
      "text/plain": [
       "115035"
      ]
     },
     "execution_count": 203,
     "metadata": {},
     "output_type": "execute_result"
    }
   ],
   "source": [
    "df_pedidos.count()"
   ]
  },
  {
   "cell_type": "code",
   "execution_count": 204,
   "metadata": {},
   "outputs": [
    {
     "name": "stdout",
     "output_type": "stream",
     "text": [
      "+----------------------+--------------------+--------------------+--------------------+--------------------+------------------------+-------------------+--------------+------------------+------------+--------------------+-------------+-------------+-------------------+------+-------------+---------------------+--------------------+------------+\n",
      "|product_category_name2|           seller_id|          product_id|            order_id|         customer_id|order_purchase_timestamp|      customer_city|customer_state|payment_sequential|payment_type|payment_installments|payment_value|order_item_id|shipping_limit_date| price|freight_value|product_category_name|         seller_city|seller_state|\n",
      "+----------------------+--------------------+--------------------+--------------------+--------------------+------------------------+-------------------+--------------+------------------+------------+--------------------+-------------+-------------+-------------------+------+-------------+---------------------+--------------------+------------+\n",
      "|                     1|0c8380b62e38e8a1e...|fbb1cfc2810efabf3...|00ed64bc080d87b4a...|3e49d94c6d8ad4a1f...|     2017-05-30 18:18:36|     rio de janeiro|            RJ|                 1| credit_card|                   1|        61.01|            1|2017-06-06 18:22:47|  44.9|        16.11|                 null|       tres coracoes|          MG|\n",
      "|                     1|c826c40d7b19f62a0...|4914f8796af2ecd35...|03ba96e3cd1a918f1...|d7536a1f7bb487644...|     2017-11-29 21:40:21|          sao paulo|            SP|                 1| credit_card|                   2|        57.55|            1|2017-12-05 21:56:50| 49.77|         7.78|                 null|           guarulhos|          SP|\n",
      "|                     1|dd7ddc04e1b6c2c61...|0c877471e35049402...|05bd0df2a2f8b3719...|bd28fb21b93201afe...|     2017-12-05 09:21:51|             araras|            SP|                 2|     voucher|                   1|         50.0|            1|2017-12-11 10:48:16|  84.9|         30.9|                 null|           sao paulo|          SP|\n",
      "|                     1|dd7ddc04e1b6c2c61...|0c877471e35049402...|05bd0df2a2f8b3719...|bd28fb21b93201afe...|     2017-12-05 09:21:51|             araras|            SP|                 1| credit_card|                   1|         65.8|            1|2017-12-11 10:48:16|  84.9|         30.9|                 null|           sao paulo|          SP|\n",
      "|                     1|c826c40d7b19f62a0...|0502d1a36be75bd36...|0a7a3bb3bfcebd9e8...|9466322b97e1ac6b4...|     2018-01-23 22:32:24| fazenda rio grande|            PR|                 1| credit_card|                   1|        84.01|            1|2018-01-29 22:53:19| 69.77|        14.24|                 null|           guarulhos|          SP|\n",
      "|                     1|25c5c91f63607446a...|b8c2cf7e813b0eb7e...|0de497b1f069927c1...|49a385b4c7bfe2a0c...|     2017-07-11 11:56:29|          sao paulo|            SP|                 1| credit_card|                   1|       339.49|            1|2017-07-19 12:23:45| 320.0|        19.49|                 null|              itauna|          MG|\n",
      "|                     1|116ccb1a1604bc88e...|9b13a7d2231847991...|0e58e440db9719a92...|7eb65253e071f9123...|     2017-11-23 18:20:53|     embu das artes|            SP|                 1|      boleto|                   1|        42.32|            1|2017-11-30 03:53:26| 34.54|         7.78|                 null|sao bernardo do c...|          SP|\n",
      "|                     1|3771c85bac139d234...|f9b1795281ce51b1c...|0ec6d5153abc64611...|68d446727a2612521...|     2017-06-09 21:19:00|            taubate|            SP|                 1| credit_card|                   2|        51.75|            1|2017-06-14 21:30:11|  39.9|        11.85|                 null|            sorocaba|          SP|\n",
      "|                     1|c0f783394e37cd9c9...|0082684bb4a60a862...|1e023f96b2ab8ba32...|c316d9222671b33a8...|     2017-11-10 13:49:38|  sao jose da barra|            MG|                 1| credit_card|                   3|         55.0|            1|2017-11-17 14:07:17|  39.9|         15.1|                 null|          piracicaba|          SP|\n",
      "|                     1|b29d3380981c51df1...|93305944cf8bb41c6...|1f9ed60661469689d...|46853a08808655a71...|     2018-08-02 18:56:22|sao jose dos campos|            SP|                 1| credit_card|                   5|        70.88|            1|2018-08-08 19:10:22|  56.9|        13.98|                 null|      ribeirao preto|          SP|\n",
      "|                     1|c157bdeedcbc9a8e3...|8a0c7c7b32d023b5c...|272e6f76eb38eeae9...|47f94098dc1adc156...|     2017-05-05 16:46:55|      florianopolis|            SC|                 1| credit_card|                   4|       115.73|            1|2017-05-12 16:55:16| 94.99|        20.74|                 null|           mairinque|          SP|\n",
      "|                     1|c826c40d7b19f62a0...|5a848e4ab52fd5445...|27f80456be871c8bc...|00af1761df71da362...|     2017-11-28 18:00:54|           brasilia|            DF|                 1| credit_card|                   2|        137.6|            1|2017-12-04 18:16:37|122.99|        14.61|                 null|           guarulhos|          SP|\n",
      "|                     1|c826c40d7b19f62a0...|5a848e4ab52fd5445...|30e1842e97acf7abf...|3d457252f3e67466b...|     2018-08-13 11:17:13|     rio de janeiro|            RJ|                 1| credit_card|                   3|       138.95|            1|2018-08-16 11:44:17|122.99|        15.96|                 null|           guarulhos|          SP|\n",
      "|                     1|c826c40d7b19f62a0...|5a848e4ab52fd5445...|3316b67b63d43c414...|2e7ba3e122728f593...|     2018-03-22 00:13:47|            atibaia|            SP|                 1| credit_card|                   8|       131.62|            1|2018-03-28 00:28:19|122.99|         8.63|                 null|           guarulhos|          SP|\n",
      "|                     1|f593898ec748b7a8c...|2ddbeb76f134690c0...|33b4e4420ddac9b1e...|8fd98a723350fb2ed...|     2018-01-04 14:54:25|            marilia|            SP|                 1| credit_card|                   1|        33.79|            1|2018-01-10 15:08:21|  21.1|        12.69|                 null|            pedreira|          SP|\n",
      "|                     1|f0e103c63864d5405...|9575c58d6ba585658...|33f70271657afa8d0...|d87971ae8acd4eac7...|     2017-08-22 09:28:07|            atibaia|            SP|                 1| credit_card|                   4|       169.73|            1|2017-08-28 09:45:43| 159.8|         9.93|                 null|              osasco|          SP|\n",
      "|                     1|63ffcb71394dd8ea3...|a4d8f727f92014da5...|36f63f07e3c52585c...|400083d12b8d97a4a...|     2017-02-05 13:58:46|     rio de janeiro|            RJ|                 1| credit_card|                   1|        37.93|            1|2017-02-11 13:58:46|  25.0|        12.93|                 null|            itaborai|          RJ|\n",
      "|                     1|b274baf5bbd142410...|e621e5b4cac0fb8cf...|40e71e3ccbeb71706...|a325fd976bfd1f4dc...|     2018-07-19 10:36:27|          sao paulo|            SP|                 1| credit_card|                   8|        94.65|            1|2018-07-26 10:50:16|  79.0|        15.65|                 null|          montenegro|          RS|\n",
      "|                     1|4e922959ae960d389...|5eb564652db742ff8...|415cfaaaa8cea49f9...|a8dff6357fea30071...|     2017-04-02 10:25:38|          arapongas|            PR|                 1| credit_card|                   1|        87.04|            1|2017-04-07 10:35:19|  29.0|        14.52|                 null|             jacarei|          SP|\n",
      "|                     1|4e922959ae960d389...|5eb564652db742ff8...|415cfaaaa8cea49f9...|a8dff6357fea30071...|     2017-04-02 10:25:38|          arapongas|            PR|                 1| credit_card|                   1|        87.04|            2|2017-04-07 10:35:19|  29.0|        14.52|                 null|             jacarei|          SP|\n",
      "+----------------------+--------------------+--------------------+--------------------+--------------------+------------------------+-------------------+--------------+------------------+------------+--------------------+-------------+-------------+-------------------+------+-------------+---------------------+--------------------+------------+\n",
      "only showing top 20 rows\n",
      "\n"
     ]
    }
   ],
   "source": [
    "df_pedidos.select([f.when(f.isnull('product_category_name'), 1).alias('product_category_name2'), '*'] )\\\n",
    "    .where(\"product_category_name2==1\").show()"
   ]
  },
  {
   "cell_type": "code",
   "execution_count": 205,
   "metadata": {},
   "outputs": [],
   "source": [
    "df_pedidos = df_pedidos.na.drop()"
   ]
  },
  {
   "attachments": {},
   "cell_type": "markdown",
   "metadata": {},
   "source": [
    "top 10 por estados "
   ]
  },
  {
   "cell_type": "code",
   "execution_count": 206,
   "metadata": {},
   "outputs": [
    {
     "name": "stdout",
     "output_type": "stream",
     "text": [
      "+--------------+-----+\n",
      "|customer_state|count|\n",
      "+--------------+-----+\n",
      "|SP            |47840|\n",
      "|RJ            |14651|\n",
      "|MG            |13236|\n",
      "|RS            |6288 |\n",
      "|PR            |5790 |\n",
      "|SC            |4160 |\n",
      "|BA            |3859 |\n",
      "|DF            |2389 |\n",
      "|GO            |2319 |\n",
      "|ES            |2288 |\n",
      "+--------------+-----+\n",
      "only showing top 10 rows\n",
      "\n"
     ]
    }
   ],
   "source": [
    "df_pedidos\\\n",
    "    .select('customer_state')\\\n",
    "    .groupBy('customer_state')\\\n",
    "    .count()\\\n",
    "    .orderBy('count', ascending = 0)\\\n",
    "    .show(10, truncate=False) "
   ]
  },
  {
   "cell_type": "code",
   "execution_count": 207,
   "metadata": {},
   "outputs": [
    {
     "name": "stdout",
     "output_type": "stream",
     "text": [
      "+---------------------+-----------+\n",
      "|customer_city        |total_state|\n",
      "+---------------------+-----------+\n",
      "|sao paulo            |17867      |\n",
      "|rio de janeiro       |7821       |\n",
      "|belo horizonte       |3134       |\n",
      "|brasilia             |2374       |\n",
      "|curitiba             |1768       |\n",
      "|campinas             |1686       |\n",
      "|porto alegre         |1591       |\n",
      "|salvador             |1435       |\n",
      "|guarulhos            |1349       |\n",
      "|sao bernardo do campo|1075       |\n",
      "|niteroi              |1016       |\n",
      "|santo andre          |888        |\n",
      "|osasco               |860        |\n",
      "|santos               |829        |\n",
      "|goiania              |812        |\n",
      "|sao jose dos campos  |780        |\n",
      "|fortaleza            |720        |\n",
      "|sorocaba             |705        |\n",
      "|recife               |669        |\n",
      "|florianopolis        |657        |\n",
      "+---------------------+-----------+\n",
      "only showing top 20 rows\n",
      "\n"
     ]
    }
   ],
   "source": [
    "df_pedidos\\\n",
    "    .select('order_id', 'customer_city', 'customer_state')\\\n",
    "    .groupBy('customer_city')\\\n",
    "    .agg(\n",
    "        f.count(\"order_id\").alias(\"total_state\")\n",
    "        \n",
    "    )\\\n",
    "    .orderBy('total_state', ascending = 0)\\\n",
    "    .show(truncate=False) "
   ]
  },
  {
   "cell_type": "code",
   "execution_count": 208,
   "metadata": {},
   "outputs": [
    {
     "name": "stdout",
     "output_type": "stream",
     "text": [
      "+----------------------+--------------+--------------+-----+\n",
      "|product_category_name |customer_city |customer_state|count|\n",
      "+----------------------+--------------+--------------+-----+\n",
      "|cama_mesa_banho       |sao paulo     |SP            |2111 |\n",
      "|beleza_saude          |sao paulo     |SP            |1766 |\n",
      "|esporte_lazer         |sao paulo     |SP            |1413 |\n",
      "|utilidades_domesticas |sao paulo     |SP            |1368 |\n",
      "|moveis_decoracao      |sao paulo     |SP            |1334 |\n",
      "|informatica_acessorios|sao paulo     |SP            |1222 |\n",
      "|cama_mesa_banho       |rio de janeiro|RJ            |881  |\n",
      "|relogios_presentes    |sao paulo     |SP            |846  |\n",
      "|brinquedos            |sao paulo     |SP            |662  |\n",
      "|telefonia             |sao paulo     |SP            |635  |\n",
      "|moveis_decoracao      |rio de janeiro|RJ            |631  |\n",
      "|esporte_lazer         |rio de janeiro|RJ            |587  |\n",
      "|beleza_saude          |rio de janeiro|RJ            |571  |\n",
      "|automotivo            |sao paulo     |SP            |557  |\n",
      "|perfumaria            |sao paulo     |SP            |547  |\n",
      "|informatica_acessorios|rio de janeiro|RJ            |545  |\n",
      "|bebes                 |sao paulo     |SP            |494  |\n",
      "|utilidades_domesticas |rio de janeiro|RJ            |489  |\n",
      "|ferramentas_jardim    |sao paulo     |SP            |478  |\n",
      "|relogios_presentes    |rio de janeiro|RJ            |458  |\n",
      "+----------------------+--------------+--------------+-----+\n",
      "only showing top 20 rows\n",
      "\n"
     ]
    }
   ],
   "source": [
    "df_pedidos\\\n",
    "    .select('order_id', 'customer_city', 'customer_state', 'product_category_name')\\\n",
    "    .groupBy('product_category_name','customer_city', 'customer_state')\\\n",
    "    .count()\\\n",
    "    .orderBy('count', ascending = 0)\\\n",
    "    .show(truncate=False) "
   ]
  },
  {
   "cell_type": "code",
   "execution_count": 209,
   "metadata": {},
   "outputs": [
    {
     "name": "stdout",
     "output_type": "stream",
     "text": [
      "+----------------------+--------------+-----+\n",
      "|product_category_name |customer_state|count|\n",
      "+----------------------+--------------+-----+\n",
      "|cama_mesa_banho       |SP            |5491 |\n",
      "|beleza_saude          |SP            |4246 |\n",
      "|esporte_lazer         |SP            |3720 |\n",
      "|moveis_decoracao      |SP            |3670 |\n",
      "|utilidades_domesticas |SP            |3374 |\n",
      "|informatica_acessorios|SP            |3165 |\n",
      "|relogios_presentes    |SP            |2302 |\n",
      "|automotivo            |SP            |1772 |\n",
      "|cama_mesa_banho       |RJ            |1744 |\n",
      "|brinquedos            |SP            |1729 |\n",
      "|telefonia             |SP            |1680 |\n",
      "|ferramentas_jardim    |SP            |1600 |\n",
      "|perfumaria            |SP            |1493 |\n",
      "|cool_stuff            |SP            |1421 |\n",
      "|cama_mesa_banho       |MG            |1393 |\n",
      "|bebes                 |SP            |1281 |\n",
      "|moveis_decoracao      |RJ            |1114 |\n",
      "|beleza_saude          |MG            |1084 |\n",
      "|papelaria             |SP            |1084 |\n",
      "|beleza_saude          |RJ            |1061 |\n",
      "+----------------------+--------------+-----+\n",
      "only showing top 20 rows\n",
      "\n"
     ]
    }
   ],
   "source": [
    "df_pedidos\\\n",
    "    .select('order_id', 'customer_city', 'customer_state', 'product_category_name')\\\n",
    "    .groupBy('product_category_name', 'customer_state')\\\n",
    "    .count()\\\n",
    "    .orderBy('count', ascending = 0)\\\n",
    "    .show(truncate=False) "
   ]
  },
  {
   "cell_type": "code",
   "execution_count": 210,
   "metadata": {},
   "outputs": [
    {
     "name": "stdout",
     "output_type": "stream",
     "text": [
      "+--------------------------------+-----+\n",
      "|customer_id                     |count|\n",
      "+--------------------------------+-----+\n",
      "|270c23a11d024a44c896d1894b261a83|63   |\n",
      "|13aa59158da63ba0e93ec6ac2c07aacb|38   |\n",
      "|92cd3ec6e2d643d4ebd0e3d6238f69e2|26   |\n",
      "|86cc80fef09f7f39df4b0dbce48e81cb|24   |\n",
      "|63b964e79dee32a3587651701a2b8dbf|24   |\n",
      "|6ee2f17e3b6c33d6a9557f280edd2925|24   |\n",
      "|d22f25a9fadfb1abbc2e29395b1239f4|24   |\n",
      "|b246eeed30b362c09d867b9e598bee51|22   |\n",
      "|50920f8cd0681fd86ebe93670c8fe52e|21   |\n",
      "|fc3d1daec319d62d49bfb5e1f83123e9|21   |\n",
      "|5e0f7317756669ff7b384444dbb81fa3|21   |\n",
      "|be1b70680b9f9694d8c70f41fa3dc92b|20   |\n",
      "|23924b2105c5376cd6204757c8b68752|20   |\n",
      "|bd5d39761aa56689a265d95d8d32b8be|20   |\n",
      "|eed931d3a5222a9a511d18be7fd2a5ba|19   |\n",
      "|1d4411212e90d6a24fd2d09f74878b48|16   |\n",
      "|42568702f6b7a0d94ad168a4b1dbe0eb|15   |\n",
      "|adb32467ecc74b53576d9d13a5a55891|15   |\n",
      "|1eebfdb7083031b40f727fb71f6cd5b2|15   |\n",
      "|10de381f8a8d23fff822753305f71cae|15   |\n",
      "+--------------------------------+-----+\n",
      "only showing top 20 rows\n",
      "\n"
     ]
    }
   ],
   "source": [
    "df_pedidos\\\n",
    "    .select('customer_id')\\\n",
    "    .groupBy('customer_id')\\\n",
    "    .count()\\\n",
    "    .where(\"count>1\")\\\n",
    "    .orderBy('count', ascending = 0)\\\n",
    "    .show(truncate=False) \n"
   ]
  },
  {
   "cell_type": "code",
   "execution_count": 211,
   "metadata": {},
   "outputs": [
    {
     "name": "stdout",
     "output_type": "stream",
     "text": [
      "+------------+---------------------+--------------+-----+\n",
      "|payment_type|customer_city        |customer_state|count|\n",
      "+------------+---------------------+--------------+-----+\n",
      "|credit_card |rio branco           |AC            |60   |\n",
      "|boleto      |rio branco           |AC            |14   |\n",
      "|voucher     |rio branco           |AC            |4    |\n",
      "|credit_card |brasileia            |AC            |3    |\n",
      "|boleto      |cruzeiro do sul      |AC            |2    |\n",
      "|credit_card |xapuri               |AC            |2    |\n",
      "|credit_card |senador guiomard     |AC            |2    |\n",
      "|credit_card |epitaciolandia       |AC            |1    |\n",
      "|credit_card |porto acre           |AC            |1    |\n",
      "|debit_card  |senador guiomard     |AC            |1    |\n",
      "|debit_card  |manoel urbano        |AC            |1    |\n",
      "|voucher     |cruzeiro do sul      |AC            |1    |\n",
      "|credit_card |maceio               |AL            |205  |\n",
      "|boleto      |maceio               |AL            |40   |\n",
      "|credit_card |arapiraca            |AL            |30   |\n",
      "|voucher     |maceio               |AL            |11   |\n",
      "|credit_card |palmeira dos indios  |AL            |9    |\n",
      "|credit_card |penedo               |AL            |7    |\n",
      "|credit_card |delmiro gouveia      |AL            |6    |\n",
      "|credit_card |sao miguel dos campos|AL            |5    |\n",
      "+------------+---------------------+--------------+-----+\n",
      "only showing top 20 rows\n",
      "\n"
     ]
    }
   ],
   "source": [
    "df_pedidos\\\n",
    "    .select('payment_type', 'customer_city', 'customer_state')\\\n",
    "    .groupBy('payment_type', 'customer_city', 'customer_state')\\\n",
    "    .count()\\\n",
    "    .orderBy(['customer_state','count'], ascending = [1,0])\\\n",
    "    .show(truncate=False) "
   ]
  },
  {
   "cell_type": "code",
   "execution_count": 212,
   "metadata": {},
   "outputs": [
    {
     "name": "stdout",
     "output_type": "stream",
     "text": [
      "+------------+--------------+-----+\n",
      "|payment_type|customer_state|count|\n",
      "+------------+--------------+-----+\n",
      "|credit_card |AC            |69   |\n",
      "|boleto      |AC            |16   |\n",
      "|voucher     |AC            |5    |\n",
      "|debit_card  |AC            |2    |\n",
      "|credit_card |AL            |354  |\n",
      "|boleto      |AL            |67   |\n",
      "|voucher     |AL            |13   |\n",
      "|debit_card  |AL            |3    |\n",
      "|credit_card |AM            |134  |\n",
      "|boleto      |AM            |24   |\n",
      "|voucher     |AM            |7    |\n",
      "|debit_card  |AM            |2    |\n",
      "|credit_card |AP            |57   |\n",
      "|boleto      |AP            |23   |\n",
      "|voucher     |AP            |3    |\n",
      "|credit_card |BA            |2854 |\n",
      "|boleto      |BA            |673  |\n",
      "|voucher     |BA            |280  |\n",
      "|debit_card  |BA            |52   |\n",
      "|credit_card |CE            |1167 |\n",
      "+------------+--------------+-----+\n",
      "only showing top 20 rows\n",
      "\n"
     ]
    }
   ],
   "source": [
    "df_pedidos\\\n",
    "    .select('payment_type',  'customer_state')\\\n",
    "    .groupBy('payment_type',  'customer_state')\\\n",
    "    .count()\\\n",
    "    .orderBy(['customer_state','count'], ascending = [1,0])\\\n",
    "    .show(truncate=False) "
   ]
  }
 ],
 "metadata": {
  "kernelspec": {
   "display_name": "Python 3",
   "language": "python",
   "name": "python3"
  },
  "language_info": {
   "codemirror_mode": {
    "name": "ipython",
    "version": 3
   },
   "file_extension": ".py",
   "mimetype": "text/x-python",
   "name": "python",
   "nbconvert_exporter": "python",
   "pygments_lexer": "ipython3",
   "version": "3.10.6"
  },
  "orig_nbformat": 4
 },
 "nbformat": 4,
 "nbformat_minor": 2
}
